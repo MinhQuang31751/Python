{
  "nbformat": 4,
  "nbformat_minor": 0,
  "metadata": {
    "colab": {
      "provenance": [],
      "authorship_tag": "ABX9TyPyQJiSmMV43FE3bSQPnFyN",
      "include_colab_link": true
    },
    "kernelspec": {
      "name": "python3",
      "display_name": "Python 3"
    },
    "language_info": {
      "name": "python"
    }
  },
  "cells": [
    {
      "cell_type": "markdown",
      "metadata": {
        "id": "view-in-github",
        "colab_type": "text"
      },
      "source": [
        "<a href=\"https://colab.research.google.com/github/MinhQuang31751/Python-week2/blob/main/BaiTapTuan2.ipynb\" target=\"_parent\"><img src=\"https://colab.research.google.com/assets/colab-badge.svg\" alt=\"Open In Colab\"/></a>"
      ]
    },
    {
      "cell_type": "markdown",
      "source": [
        "# Bắt đầu"
      ],
      "metadata": {
        "id": "3Tjkqlu6V_bc"
      }
    },
    {
      "cell_type": "code",
      "source": [
        "#Python Hello World\n",
        "print(\"Hello World\")"
      ],
      "metadata": {
        "colab": {
          "base_uri": "https://localhost:8080/"
        },
        "id": "ge7_v3MHWQrZ",
        "outputId": "bcfcf6eb-2eb3-4b7b-d8bd-2502cbd4efd9"
      },
      "execution_count": null,
      "outputs": [
        {
          "output_type": "stream",
          "name": "stdout",
          "text": [
            "Hello World\n"
          ]
        }
      ]
    },
    {
      "cell_type": "markdown",
      "source": [
        "#Python Syntax"
      ],
      "metadata": {
        "id": "9gNG4MaVWjDC"
      }
    },
    {
      "cell_type": "code",
      "source": [
        "# comment"
      ],
      "metadata": {
        "id": "h5xWI74LWmqE"
      },
      "execution_count": null,
      "outputs": []
    },
    {
      "cell_type": "code",
      "source": [
        "score = 80\n",
        "if score >=60 :\n",
        "  print(\"Pass\")"
      ],
      "metadata": {
        "colab": {
          "base_uri": "https://localhost:8080/"
        },
        "id": "vDsLH5fsXA6g",
        "outputId": "867bfb06-df59-4fc3-96db-809357bfbf3f"
      },
      "execution_count": null,
      "outputs": [
        {
          "output_type": "stream",
          "name": "stdout",
          "text": [
            "Pass\n"
          ]
        }
      ]
    },
    {
      "cell_type": "markdown",
      "source": [
        "#Python Variables"
      ],
      "metadata": {
        "id": "VinXmjADXVJz"
      }
    },
    {
      "cell_type": "code",
      "source": [
        "# Python Variables\n",
        "x = 2\n",
        "price = 2.5\n",
        "word = 'Hello'\n",
        "\n",
        "word = 'Hello'\n",
        "word = \"Hello\"\n",
        "word = '''Hello'''\n",
        "x = 2\n",
        "y = x + 1\n",
        "\n",
        "print(\"Giá trị của x là:\", x)\n",
        "print(\"Giá trị của y là:\", y)\n",
        "print(\"Giá trị của price là:\", price)\n",
        "print(\"Giá trị của word là:\", word)"
      ],
      "metadata": {
        "colab": {
          "base_uri": "https://localhost:8080/"
        },
        "id": "tL4GoQhDXXCk",
        "outputId": "3e1072b9-de99-4cfa-8531-ff9deaff9222"
      },
      "execution_count": null,
      "outputs": [
        {
          "output_type": "stream",
          "name": "stdout",
          "text": [
            "Giá trị của x là: 2\n",
            "Giá trị của y là: 3\n",
            "Giá trị của price là: 2.5\n",
            "Giá trị của word là: Hello\n"
          ]
        }
      ]
    },
    {
      "cell_type": "markdown",
      "source": [
        "#python_version()"
      ],
      "metadata": {
        "id": "tSJKusv-XxLV"
      }
    },
    {
      "cell_type": "code",
      "source": [
        "from platform import python_version\n",
        "print(\"Python Version:\", python_version())"
      ],
      "metadata": {
        "colab": {
          "base_uri": "https://localhost:8080/"
        },
        "id": "EFVbTei1Xzq1",
        "outputId": "85677d01-7327-42e9-9818-0ec2d520a3a6"
      },
      "execution_count": null,
      "outputs": [
        {
          "output_type": "stream",
          "name": "stdout",
          "text": [
            "Python Version: 3.12.11\n"
          ]
        }
      ]
    },
    {
      "cell_type": "markdown",
      "source": [
        "#Python Data Types"
      ],
      "metadata": {
        "id": "S7vBDH9qYOAF"
      }
    },
    {
      "cell_type": "code",
      "source": [
        "string_variable = \"Hello World\" #str\n",
        "print(\"Value:\", string_variable, \", Type:\", type(string_variable))\n",
        "\n",
        "integer_variable = 2 #int\n",
        "print(\"Value:\", integer_variable, \", Type:\", type(integer_variable))\n",
        "\n",
        "float_variable = 2.5 #float\n",
        "print(\"Value:\", float_variable, \", Type:\", type(float_variable))\n",
        "\n",
        "complex_variable = 7j #complex\n",
        "print(\"Value:\", complex_variable, \", Type:\", type(complex_variable))\n",
        "\n",
        "list_variable = [\"apple\", \"banana\", \"cherry\"] #list\n",
        "print(\"Value:\", list_variable, \", Type:\", type(list_variable))\n",
        "\n",
        "tuple_variable = (\"apple\", \"banana\", \"cherry\") #tuple\n",
        "print(\"Value:\", tuple_variable, \", Type:\", type(tuple_variable))\n",
        "\n",
        "range_variable = range(6) #range\n",
        "print(\"Value:\", range_variable, \", Type:\", type(range_variable))\n",
        "\n",
        "dictionary_variable = {\"name\" : \"Tom\", \"age\" : 20} #dict\n",
        "print(\"Value:\", dictionary_variable, \", Type:\", type(dictionary_variable))\n",
        "\n",
        "set_variable = {\"apple\", \"banana\", \"cherry\"} #set\n",
        "print(\"Value:\", set_variable, \", Type:\", type(set_variable))\n",
        "\n",
        "frozenset_variable = frozenset({\"apple\", \"banana\", \"cherry\"})\n",
        "#frozenset\n",
        "print(\"Value:\", frozenset_variable, \", Type:\", type(frozenset_variable))\n",
        "\n",
        "boolean_variable = True #bool\n",
        "print(\"Value:\", boolean_variable, \", Type:\", type(boolean_variable))\n",
        "\n",
        "bytes_variable = b\"Hello\" #bytes\n",
        "print(\"Value:\", bytes_variable, \", Type:\", type(bytes_variable))\n",
        "\n",
        "bytearray_variable = bytearray(5) #bytearray\n",
        "print(\"Value:\", bytearray_variable, \", Type:\", type(bytearray_variable))\n",
        "\n",
        "memoryview_variable = memoryview(bytes(5)) #memoryview\n",
        "print(\"Value:\", memoryview_variable, \", Type:\", type(memoryview_variable))\n",
        "\n",
        "none_variable = None #NoneType\n",
        "print(\"Value:\", none_variable, \", Type:\", type(none_variable))"
      ],
      "metadata": {
        "colab": {
          "base_uri": "https://localhost:8080/"
        },
        "id": "676_9QdBYPdZ",
        "outputId": "f240ec19-5c67-4cab-bb20-51bae72c1b79"
      },
      "execution_count": null,
      "outputs": [
        {
          "output_type": "stream",
          "name": "stdout",
          "text": [
            "Value: Hello World , Type: <class 'str'>\n",
            "Value: 2 , Type: <class 'int'>\n",
            "Value: 2.5 , Type: <class 'float'>\n",
            "Value: 7j , Type: <class 'complex'>\n",
            "Value: ['apple', 'banana', 'cherry'] , Type: <class 'list'>\n",
            "Value: ('apple', 'banana', 'cherry') , Type: <class 'tuple'>\n",
            "Value: range(0, 6) , Type: <class 'range'>\n",
            "Value: {'name': 'Tom', 'age': 20} , Type: <class 'dict'>\n",
            "Value: {'cherry', 'apple', 'banana'} , Type: <class 'set'>\n",
            "Value: frozenset({'cherry', 'apple', 'banana'}) , Type: <class 'frozenset'>\n",
            "Value: True , Type: <class 'bool'>\n",
            "Value: b'Hello' , Type: <class 'bytes'>\n",
            "Value: bytearray(b'\\x00\\x00\\x00\\x00\\x00') , Type: <class 'bytearray'>\n",
            "Value: <memory at 0x7d9370f68d00> , Type: <class 'memoryview'>\n",
            "Value: None , Type: <class 'NoneType'>\n"
          ]
        }
      ]
    },
    {
      "cell_type": "markdown",
      "source": [
        "#Python Casting"
      ],
      "metadata": {
        "id": "XvNWXOUHZfoz"
      }
    },
    {
      "cell_type": "code",
      "source": [
        "x = str(3) # x will be '3'\n",
        "y = int(3) # y will be 3\n",
        "z = float(3) # z will be 3.0\n",
        "print(x, type(x))\n",
        "print(y, type(y))\n",
        "print(z, type(z))"
      ],
      "metadata": {
        "colab": {
          "base_uri": "https://localhost:8080/"
        },
        "id": "ltNoit48Zi51",
        "outputId": "896c71e4-59e3-4d13-912c-d3810c52742f"
      },
      "execution_count": null,
      "outputs": [
        {
          "output_type": "stream",
          "name": "stdout",
          "text": [
            "3 <class 'str'>\n",
            "3 <class 'int'>\n",
            "3.0 <class 'float'>\n"
          ]
        }
      ]
    },
    {
      "cell_type": "markdown",
      "source": [
        "#Python Numbers\n"
      ],
      "metadata": {
        "id": "gVH5n7A9ZpVX"
      }
    },
    {
      "cell_type": "code",
      "source": [
        "x = 2 # int\n",
        "y = 3.4 # float\n",
        "z = 7j #complex\n",
        "print(x, type(x))\n",
        "print(y, type(y))\n",
        "print(z, type(z))"
      ],
      "metadata": {
        "colab": {
          "base_uri": "https://localhost:8080/"
        },
        "id": "wN1HaIRdZhJj",
        "outputId": "b85a1dd5-4f2f-4fcf-e85b-3dccb820a1bf"
      },
      "execution_count": null,
      "outputs": [
        {
          "output_type": "stream",
          "name": "stdout",
          "text": [
            "2 <class 'int'>\n",
            "3.4 <class 'float'>\n",
            "7j <class 'complex'>\n"
          ]
        }
      ]
    },
    {
      "cell_type": "markdown",
      "source": [
        "#Python Basic Operators\n"
      ],
      "metadata": {
        "id": "2BoK3JVFZ9I8"
      }
    },
    {
      "cell_type": "code",
      "source": [
        "print('7 + 2 =', 7 + 2)\n",
        "print('7 - 2 =', 7 - 2)\n",
        "print('7 * 2 =', 7 * 2)\n",
        "print('7 / 2 =', 7 / 2)\n",
        "print('7 // 2 =', 7 // 2)\n",
        "print('7 % 2 =', 7 % 2)\n",
        "print('7 ** 2 =', 7 ** 2)"
      ],
      "metadata": {
        "colab": {
          "base_uri": "https://localhost:8080/"
        },
        "id": "eel7Fj36Z9yz",
        "outputId": "71446db0-88be-4183-f5c8-cf9be3017ddd"
      },
      "execution_count": null,
      "outputs": [
        {
          "output_type": "stream",
          "name": "stdout",
          "text": [
            "7 + 2 = 9\n",
            "7 - 2 = 5\n",
            "7 * 2 = 14\n",
            "7 / 2 = 3.5\n",
            "7 // 2 = 3\n",
            "7 % 2 = 1\n",
            "7 ** 2 = 49\n"
          ]
        }
      ]
    },
    {
      "cell_type": "markdown",
      "source": [
        "#Python Booleans: True or False"
      ],
      "metadata": {
        "id": "8H3GWv-jaGQu"
      }
    },
    {
      "cell_type": "code",
      "source": [
        "# Python Booleans: True or False\n",
        "for a, b in [(2, 5), (5, 2), (5, 5)]:\n",
        "    print(\"-\"*50)\n",
        "    print(f\"a<b: ({a}<{b}): {a<b}\")\n",
        "    print(f\"a>b: ({a}>{b}): {a>b}\")\n",
        "    print(f\"a<=b: ({a}<={b}): {a<=b}\")\n",
        "    print(f\"a>=b: ({a}>={b}): {a>=b}\")\n",
        "    print(f\"a==b: ({a}=={b}): {a==b}\")\n",
        "    print(f\"a!=b: ({a}!={b}): {a!=b}\")"
      ],
      "metadata": {
        "colab": {
          "base_uri": "https://localhost:8080/"
        },
        "id": "tE3tY54paAHx",
        "outputId": "3b3f053a-5361-453c-ba1a-743254b1a70c"
      },
      "execution_count": null,
      "outputs": [
        {
          "output_type": "stream",
          "name": "stdout",
          "text": [
            "--------------------------------------------------\n",
            "a<b: (2<5): True\n",
            "a>b: (2>5): False\n",
            "a<=b: (2<=5): True\n",
            "a>=b: (2>=5): False\n",
            "a==b: (2==5): False\n",
            "a!=b: (2!=5): True\n",
            "--------------------------------------------------\n",
            "a<b: (5<2): False\n",
            "a>b: (5>2): True\n",
            "a<=b: (5<=2): False\n",
            "a>=b: (5>=2): True\n",
            "a==b: (5==2): False\n",
            "a!=b: (5!=2): True\n",
            "--------------------------------------------------\n",
            "a<b: (5<5): False\n",
            "a>b: (5>5): False\n",
            "a<=b: (5<=5): True\n",
            "a>=b: (5>=5): True\n",
            "a==b: (5==5): True\n",
            "a!=b: (5!=5): False\n"
          ]
        }
      ]
    },
    {
      "cell_type": "markdown",
      "source": [
        "#Python BMI Calculator"
      ],
      "metadata": {
        "id": "XE0AydHdiXc_"
      }
    },
    {
      "cell_type": "code",
      "source": [
        "# BMI Calculator in Python\n",
        "height_cm = 170\n",
        "weight_kg = 60\n",
        "height_m = height_cm/100\n",
        "BMI = (weight_kg/(height_m**2))\n",
        "\n",
        "# How much is your $100 worth after 7 years?\n",
        "fv = 100 * 1.1 ** 7\n",
        "\n",
        "\n",
        "print(\"Your BMI is: \" + str(round(BMI,1)))\n",
        "print('fv = ', round(fv, 2))\n",
        "\n"
      ],
      "metadata": {
        "id": "Wbi6RNAKaMLC",
        "colab": {
          "base_uri": "https://localhost:8080/"
        },
        "outputId": "b3e4281e-14d2-48a0-cdde-cbe4f447d7e2"
      },
      "execution_count": null,
      "outputs": [
        {
          "output_type": "stream",
          "name": "stdout",
          "text": [
            "fv =  194.87\n",
            "Your BMI is: 20.8\n"
          ]
        }
      ]
    },
    {
      "cell_type": "markdown",
      "source": [
        "#Future Value"
      ],
      "metadata": {
        "id": "lh6PWD9Zi2Ij"
      }
    },
    {
      "cell_type": "code",
      "source": [
        "amount = 100\n",
        "interest = 10 #10% = 0.01 * 10\n",
        "years = 7\n",
        "\n",
        "future_value = amount * ((1 + (0.01 * interest)) ** years)\n",
        "print(f\"Giá trị tương lai sau {years} năm với số tiền ban đầu {amount} và lãi suất {interest}% là: {round(future_value, 2)}\")\n",
        "\n",
        "# Example 2: Different amount and interest\n",
        "amount_2 = 500\n",
        "interest_2 = 5\n",
        "years_2 = 10\n",
        "future_value_2 = amount_2 * ((1 + (0.01 * interest_2)) ** years_2)\n",
        "print(f\"Giá trị tương lai sau {years_2} năm với số tiền ban đầu {amount_2} và lãi suất {interest_2}% là: {round(future_value_2, 2)}\")\n",
        "\n",
        "# Example 3: Different amount, interest, and years\n",
        "amount_3 = 1000\n",
        "interest_3 = 8\n",
        "years_3 = 5\n",
        "future_value_3 = amount_3 * ((1 + (0.01 * interest_3)) ** years_3)\n",
        "print(f\"Giá trị tương lai sau {years_3} năm với số tiền ban đầu {amount_3} và lãi suất {interest_3}% là: {round(future_value_3, 2)}\")"
      ],
      "metadata": {
        "colab": {
          "base_uri": "https://localhost:8080/"
        },
        "id": "ZjyBJr7sibLD",
        "outputId": "371a2220-12eb-469a-d002-2657c22272f4"
      },
      "execution_count": null,
      "outputs": [
        {
          "output_type": "stream",
          "name": "stdout",
          "text": [
            "194.87\n"
          ]
        }
      ]
    },
    {
      "cell_type": "markdown",
      "source": [
        "# Lists []"
      ],
      "metadata": {
        "id": "15PI7NKtOfnp"
      }
    },
    {
      "cell_type": "code",
      "source": [
        "x = [60, 70, 80, 90]\n",
        "print(\"Original list:\", x)\n",
        "print(\"Length of the list:\", len(x))\n",
        "print(\"First element:\", x[0])\n",
        "print(\"Second element:\", x[1])\n",
        "print(\"Last element:\", x[-1])\n",
        "\n",
        "# Adding an element\n",
        "x.append(100)\n",
        "print(\"After appending 100:\", x)\n",
        "\n",
        "# Removing an element\n",
        "x.remove(70)\n",
        "print(\"After removing 70:\", x)\n",
        "\n",
        "# Changing an element\n",
        "x[0] = 55\n",
        "print(\"After changing the first element to 55:\", x)\n",
        "\n",
        "# Slicing the list\n",
        "print(\"Slice from index 1 to 3:\", x[1:4])\n",
        "\n",
        "# Checking if an element is in the list\n",
        "print(\"Is 80 in the list?\", 80 in x)\n",
        "print(\"Is 70 in the list?\", 70 in x)"
      ],
      "metadata": {
        "colab": {
          "base_uri": "https://localhost:8080/"
        },
        "id": "aMD-Ev2DPQLJ",
        "outputId": "6e82c380-e9a2-4a32-f373-a5f0b01211d7"
      },
      "execution_count": 1,
      "outputs": [
        {
          "output_type": "stream",
          "name": "stdout",
          "text": [
            "4\n",
            "60\n",
            "70\n",
            "90\n"
          ]
        }
      ]
    },
    {
      "cell_type": "markdown",
      "source": [
        "#Tuples ()"
      ],
      "metadata": {
        "id": "LU67SHIEPshT"
      }
    },
    {
      "cell_type": "code",
      "source": [
        "x = (10, 20, 30, 40, 50)\n",
        "print(x[0])\n",
        "print(x[1])\n",
        "print(x[2])\n",
        "print(x[-1])"
      ],
      "metadata": {
        "colab": {
          "base_uri": "https://localhost:8080/"
        },
        "id": "QOGVWz3VPkqB",
        "outputId": "9b2a9468-0a4f-499f-e3da-5ef0d49730ba"
      },
      "execution_count": 2,
      "outputs": [
        {
          "output_type": "stream",
          "name": "stdout",
          "text": [
            "10\n",
            "20\n",
            "30\n",
            "50\n"
          ]
        }
      ]
    },
    {
      "cell_type": "markdown",
      "source": [
        "# Sets {}"
      ],
      "metadata": {
        "id": "YMtW0Wr-Py1o"
      }
    },
    {
      "cell_type": "code",
      "source": [
        "animals = {'cat', 'dog'}\n",
        "print('cat' in animals)\n",
        "print('fish' in animals)\n",
        "animals.add('fish')\n",
        "print('fish' in animals)\n",
        "print(len(animals))\n",
        "animals.add('cat’)\n",
        "print(len(animals))\n",
        "animals.remove('cat')\n",
        "print(len(animals))"
      ],
      "metadata": {
        "colab": {
          "base_uri": "https://localhost:8080/",
          "height": 106
        },
        "id": "8FFAPd1HP00D",
        "outputId": "06ad7d24-8f68-4122-827e-c7dffee7115e"
      },
      "execution_count": 3,
      "outputs": [
        {
          "output_type": "error",
          "ename": "SyntaxError",
          "evalue": "unterminated string literal (detected at line 7) (ipython-input-1665972573.py, line 7)",
          "traceback": [
            "\u001b[0;36m  File \u001b[0;32m\"/tmp/ipython-input-1665972573.py\"\u001b[0;36m, line \u001b[0;32m7\u001b[0m\n\u001b[0;31m    animals.add('cat’)\u001b[0m\n\u001b[0m                ^\u001b[0m\n\u001b[0;31mSyntaxError\u001b[0m\u001b[0;31m:\u001b[0m unterminated string literal (detected at line 7)\n"
          ]
        }
      ]
    },
    {
      "cell_type": "code",
      "source": [],
      "metadata": {
        "id": "XzZLLvQCP6vI"
      },
      "execution_count": null,
      "outputs": []
    }
  ]
}