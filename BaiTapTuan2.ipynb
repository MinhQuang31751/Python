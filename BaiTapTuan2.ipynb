{
  "nbformat": 4,
  "nbformat_minor": 0,
  "metadata": {
    "colab": {
      "provenance": [],
      "collapsed_sections": [
        "0nDSgLsqbbPn",
        "mP1dB0_2ZbLK",
        "zw45sC2EaOYe",
        "mxm1T9zUbIyD"
      ],
      "authorship_tag": "ABX9TyNn253ICjokO7HB2Kvazm/d",
      "include_colab_link": true
    },
    "kernelspec": {
      "name": "python3",
      "display_name": "Python 3"
    },
    "language_info": {
      "name": "python"
    }
  },
  "cells": [
    {
      "cell_type": "markdown",
      "metadata": {
        "id": "view-in-github",
        "colab_type": "text"
      },
      "source": [
        "<a href=\"https://colab.research.google.com/github/MinhQuang31751/Python-week2/blob/main/BaiTapTuan2.ipynb\" target=\"_parent\"><img src=\"https://colab.research.google.com/assets/colab-badge.svg\" alt=\"Open In Colab\"/></a>"
      ]
    },
    {
      "cell_type": "markdown",
      "source": [
        "# Bắt đầu"
      ],
      "metadata": {
        "id": "3Tjkqlu6V_bc"
      }
    },
    {
      "cell_type": "markdown",
      "source": [
        "#Python Programming"
      ],
      "metadata": {
        "id": "0nDSgLsqbbPn"
      }
    },
    {
      "cell_type": "code",
      "source": [
        "#Python Hello World\n",
        "print(\"Hello World\")"
      ],
      "metadata": {
        "colab": {
          "base_uri": "https://localhost:8080/"
        },
        "id": "ge7_v3MHWQrZ",
        "outputId": "bcfcf6eb-2eb3-4b7b-d8bd-2502cbd4efd9"
      },
      "execution_count": null,
      "outputs": [
        {
          "output_type": "stream",
          "name": "stdout",
          "text": [
            "Hello World\n"
          ]
        }
      ]
    },
    {
      "cell_type": "markdown",
      "source": [
        "## Python Syntax"
      ],
      "metadata": {
        "id": "9gNG4MaVWjDC"
      }
    },
    {
      "cell_type": "code",
      "source": [
        "score = 80\n",
        "if score >=60 :\n",
        "  print(\"Pass\")"
      ],
      "metadata": {
        "colab": {
          "base_uri": "https://localhost:8080/"
        },
        "id": "vDsLH5fsXA6g",
        "outputId": "867bfb06-df59-4fc3-96db-809357bfbf3f"
      },
      "execution_count": null,
      "outputs": [
        {
          "output_type": "stream",
          "name": "stdout",
          "text": [
            "Pass\n"
          ]
        }
      ]
    },
    {
      "cell_type": "markdown",
      "source": [
        "##Python Variables"
      ],
      "metadata": {
        "id": "VinXmjADXVJz"
      }
    },
    {
      "cell_type": "code",
      "source": [
        "# Python Variables\n",
        "x = 2\n",
        "price = 2.5\n",
        "word = 'Hello'\n",
        "\n",
        "word = 'Hello'\n",
        "word = \"Hello\"\n",
        "word = '''Hello'''\n",
        "x = 2\n",
        "y = x + 1\n",
        "\n",
        "print(\"Giá trị của x là:\", x)\n",
        "print(\"Giá trị của y là:\", y)\n",
        "print(\"Giá trị của price là:\", price)\n",
        "print(\"Giá trị của word là:\", word)"
      ],
      "metadata": {
        "colab": {
          "base_uri": "https://localhost:8080/"
        },
        "id": "tL4GoQhDXXCk",
        "outputId": "3e1072b9-de99-4cfa-8531-ff9deaff9222"
      },
      "execution_count": null,
      "outputs": [
        {
          "output_type": "stream",
          "name": "stdout",
          "text": [
            "Giá trị của x là: 2\n",
            "Giá trị của y là: 3\n",
            "Giá trị của price là: 2.5\n",
            "Giá trị của word là: Hello\n"
          ]
        }
      ]
    },
    {
      "cell_type": "markdown",
      "source": [
        "##python_version()"
      ],
      "metadata": {
        "id": "tSJKusv-XxLV"
      }
    },
    {
      "cell_type": "code",
      "source": [
        "from platform import python_version\n",
        "print(\"Python Version:\", python_version())"
      ],
      "metadata": {
        "colab": {
          "base_uri": "https://localhost:8080/"
        },
        "id": "EFVbTei1Xzq1",
        "outputId": "85677d01-7327-42e9-9818-0ec2d520a3a6"
      },
      "execution_count": null,
      "outputs": [
        {
          "output_type": "stream",
          "name": "stdout",
          "text": [
            "Python Version: 3.12.11\n"
          ]
        }
      ]
    },
    {
      "cell_type": "markdown",
      "source": [
        "##Python Data Types"
      ],
      "metadata": {
        "id": "S7vBDH9qYOAF"
      }
    },
    {
      "cell_type": "code",
      "source": [
        "string_variable = \"Hello World\" #str\n",
        "print(\"Value:\", string_variable, \", Type:\", type(string_variable))\n",
        "\n",
        "integer_variable = 2 #int\n",
        "print(\"Value:\", integer_variable, \", Type:\", type(integer_variable))\n",
        "\n",
        "float_variable = 2.5 #float\n",
        "print(\"Value:\", float_variable, \", Type:\", type(float_variable))\n",
        "\n",
        "complex_variable = 7j #complex\n",
        "print(\"Value:\", complex_variable, \", Type:\", type(complex_variable))\n",
        "\n",
        "list_variable = [\"apple\", \"banana\", \"cherry\"] #list\n",
        "print(\"Value:\", list_variable, \", Type:\", type(list_variable))\n",
        "\n",
        "tuple_variable = (\"apple\", \"banana\", \"cherry\") #tuple\n",
        "print(\"Value:\", tuple_variable, \", Type:\", type(tuple_variable))\n",
        "\n",
        "range_variable = range(6) #range\n",
        "print(\"Value:\", range_variable, \", Type:\", type(range_variable))\n",
        "\n",
        "dictionary_variable = {\"name\" : \"Tom\", \"age\" : 20} #dict\n",
        "print(\"Value:\", dictionary_variable, \", Type:\", type(dictionary_variable))\n",
        "\n",
        "set_variable = {\"apple\", \"banana\", \"cherry\"} #set\n",
        "print(\"Value:\", set_variable, \", Type:\", type(set_variable))\n",
        "\n",
        "frozenset_variable = frozenset({\"apple\", \"banana\", \"cherry\"})\n",
        "#frozenset\n",
        "print(\"Value:\", frozenset_variable, \", Type:\", type(frozenset_variable))\n",
        "\n",
        "boolean_variable = True #bool\n",
        "print(\"Value:\", boolean_variable, \", Type:\", type(boolean_variable))\n",
        "\n",
        "bytes_variable = b\"Hello\" #bytes\n",
        "print(\"Value:\", bytes_variable, \", Type:\", type(bytes_variable))\n",
        "\n",
        "bytearray_variable = bytearray(5) #bytearray\n",
        "print(\"Value:\", bytearray_variable, \", Type:\", type(bytearray_variable))\n",
        "\n",
        "memoryview_variable = memoryview(bytes(5)) #memoryview\n",
        "print(\"Value:\", memoryview_variable, \", Type:\", type(memoryview_variable))\n",
        "\n",
        "none_variable = None #NoneType\n",
        "print(\"Value:\", none_variable, \", Type:\", type(none_variable))"
      ],
      "metadata": {
        "colab": {
          "base_uri": "https://localhost:8080/"
        },
        "id": "676_9QdBYPdZ",
        "outputId": "f240ec19-5c67-4cab-bb20-51bae72c1b79"
      },
      "execution_count": null,
      "outputs": [
        {
          "output_type": "stream",
          "name": "stdout",
          "text": [
            "Value: Hello World , Type: <class 'str'>\n",
            "Value: 2 , Type: <class 'int'>\n",
            "Value: 2.5 , Type: <class 'float'>\n",
            "Value: 7j , Type: <class 'complex'>\n",
            "Value: ['apple', 'banana', 'cherry'] , Type: <class 'list'>\n",
            "Value: ('apple', 'banana', 'cherry') , Type: <class 'tuple'>\n",
            "Value: range(0, 6) , Type: <class 'range'>\n",
            "Value: {'name': 'Tom', 'age': 20} , Type: <class 'dict'>\n",
            "Value: {'cherry', 'apple', 'banana'} , Type: <class 'set'>\n",
            "Value: frozenset({'cherry', 'apple', 'banana'}) , Type: <class 'frozenset'>\n",
            "Value: True , Type: <class 'bool'>\n",
            "Value: b'Hello' , Type: <class 'bytes'>\n",
            "Value: bytearray(b'\\x00\\x00\\x00\\x00\\x00') , Type: <class 'bytearray'>\n",
            "Value: <memory at 0x7d9370f68d00> , Type: <class 'memoryview'>\n",
            "Value: None , Type: <class 'NoneType'>\n"
          ]
        }
      ]
    },
    {
      "cell_type": "markdown",
      "source": [
        "##Python Casting"
      ],
      "metadata": {
        "id": "XvNWXOUHZfoz"
      }
    },
    {
      "cell_type": "code",
      "source": [
        "x = str(3) # x will be '3'\n",
        "y = int(3) # y will be 3\n",
        "z = float(3) # z will be 3.0\n",
        "print(x, type(x))\n",
        "print(y, type(y))\n",
        "print(z, type(z))"
      ],
      "metadata": {
        "colab": {
          "base_uri": "https://localhost:8080/"
        },
        "id": "ltNoit48Zi51",
        "outputId": "896c71e4-59e3-4d13-912c-d3810c52742f"
      },
      "execution_count": null,
      "outputs": [
        {
          "output_type": "stream",
          "name": "stdout",
          "text": [
            "3 <class 'str'>\n",
            "3 <class 'int'>\n",
            "3.0 <class 'float'>\n"
          ]
        }
      ]
    },
    {
      "cell_type": "markdown",
      "source": [
        "##Python Numbers\n"
      ],
      "metadata": {
        "id": "gVH5n7A9ZpVX"
      }
    },
    {
      "cell_type": "code",
      "source": [
        "x = 2 # int\n",
        "y = 3.4 # float\n",
        "z = 7j #complex\n",
        "print(x, type(x))\n",
        "print(y, type(y))\n",
        "print(z, type(z))"
      ],
      "metadata": {
        "colab": {
          "base_uri": "https://localhost:8080/"
        },
        "id": "wN1HaIRdZhJj",
        "outputId": "b85a1dd5-4f2f-4fcf-e85b-3dccb820a1bf"
      },
      "execution_count": null,
      "outputs": [
        {
          "output_type": "stream",
          "name": "stdout",
          "text": [
            "2 <class 'int'>\n",
            "3.4 <class 'float'>\n",
            "7j <class 'complex'>\n"
          ]
        }
      ]
    },
    {
      "cell_type": "markdown",
      "source": [
        "##Python Basic Operators\n"
      ],
      "metadata": {
        "id": "2BoK3JVFZ9I8"
      }
    },
    {
      "cell_type": "code",
      "source": [
        "print('7 + 2 =', 7 + 2)\n",
        "print('7 - 2 =', 7 - 2)\n",
        "print('7 * 2 =', 7 * 2)\n",
        "print('7 / 2 =', 7 / 2)\n",
        "print('7 // 2 =', 7 // 2)\n",
        "print('7 % 2 =', 7 % 2)\n",
        "print('7 ** 2 =', 7 ** 2)"
      ],
      "metadata": {
        "colab": {
          "base_uri": "https://localhost:8080/"
        },
        "id": "eel7Fj36Z9yz",
        "outputId": "71446db0-88be-4183-f5c8-cf9be3017ddd"
      },
      "execution_count": null,
      "outputs": [
        {
          "output_type": "stream",
          "name": "stdout",
          "text": [
            "7 + 2 = 9\n",
            "7 - 2 = 5\n",
            "7 * 2 = 14\n",
            "7 / 2 = 3.5\n",
            "7 // 2 = 3\n",
            "7 % 2 = 1\n",
            "7 ** 2 = 49\n"
          ]
        }
      ]
    },
    {
      "cell_type": "markdown",
      "source": [
        "##Python Booleans: True or False"
      ],
      "metadata": {
        "id": "8H3GWv-jaGQu"
      }
    },
    {
      "cell_type": "code",
      "source": [
        "# Python Booleans: True or False\n",
        "for a, b in [(2, 5), (5, 2), (5, 5)]:\n",
        "    print(\"-\"*50)\n",
        "    print(f\"a<b: ({a}<{b}): {a<b}\")\n",
        "    print(f\"a>b: ({a}>{b}): {a>b}\")\n",
        "    print(f\"a<=b: ({a}<={b}): {a<=b}\")\n",
        "    print(f\"a>=b: ({a}>={b}): {a>=b}\")\n",
        "    print(f\"a==b: ({a}=={b}): {a==b}\")\n",
        "    print(f\"a!=b: ({a}!={b}): {a!=b}\")"
      ],
      "metadata": {
        "colab": {
          "base_uri": "https://localhost:8080/"
        },
        "id": "tE3tY54paAHx",
        "outputId": "3b3f053a-5361-453c-ba1a-743254b1a70c"
      },
      "execution_count": null,
      "outputs": [
        {
          "output_type": "stream",
          "name": "stdout",
          "text": [
            "--------------------------------------------------\n",
            "a<b: (2<5): True\n",
            "a>b: (2>5): False\n",
            "a<=b: (2<=5): True\n",
            "a>=b: (2>=5): False\n",
            "a==b: (2==5): False\n",
            "a!=b: (2!=5): True\n",
            "--------------------------------------------------\n",
            "a<b: (5<2): False\n",
            "a>b: (5>2): True\n",
            "a<=b: (5<=2): False\n",
            "a>=b: (5>=2): True\n",
            "a==b: (5==2): False\n",
            "a!=b: (5!=2): True\n",
            "--------------------------------------------------\n",
            "a<b: (5<5): False\n",
            "a>b: (5>5): False\n",
            "a<=b: (5<=5): True\n",
            "a>=b: (5>=5): True\n",
            "a==b: (5==5): True\n",
            "a!=b: (5!=5): False\n"
          ]
        }
      ]
    },
    {
      "cell_type": "markdown",
      "source": [
        "##Python BMI Calculator"
      ],
      "metadata": {
        "id": "XE0AydHdiXc_"
      }
    },
    {
      "cell_type": "code",
      "source": [
        "# BMI Calculator in Python\n",
        "height_cm = 170\n",
        "weight_kg = 60\n",
        "height_m = height_cm/100\n",
        "BMI = (weight_kg/(height_m**2))\n",
        "\n",
        "# How much is your $100 worth after 7 years?\n",
        "fv = 100 * 1.1 ** 7\n",
        "\n",
        "\n",
        "print(\"Your BMI is: \" + str(round(BMI,1)))\n",
        "print('fv = ', round(fv, 2))\n",
        "\n"
      ],
      "metadata": {
        "id": "Wbi6RNAKaMLC",
        "colab": {
          "base_uri": "https://localhost:8080/"
        },
        "outputId": "b3e4281e-14d2-48a0-cdde-cbe4f447d7e2"
      },
      "execution_count": null,
      "outputs": [
        {
          "output_type": "stream",
          "name": "stdout",
          "text": [
            "fv =  194.87\n",
            "Your BMI is: 20.8\n"
          ]
        }
      ]
    },
    {
      "cell_type": "markdown",
      "source": [
        "##Future Value"
      ],
      "metadata": {
        "id": "lh6PWD9Zi2Ij"
      }
    },
    {
      "cell_type": "code",
      "source": [
        "amount = 100\n",
        "interest = 10 #10% = 0.01 * 10\n",
        "years = 7\n",
        "\n",
        "future_value = amount * ((1 + (0.01 * interest)) ** years)\n",
        "print(f\"Giá trị tương lai sau {years} năm với số tiền ban đầu {amount} và lãi suất {interest}% là: {round(future_value, 2)}\")\n",
        "\n",
        "# Example 2: Different amount and interest\n",
        "amount_2 = 500\n",
        "interest_2 = 5\n",
        "years_2 = 10\n",
        "future_value_2 = amount_2 * ((1 + (0.01 * interest_2)) ** years_2)\n",
        "print(f\"Giá trị tương lai sau {years_2} năm với số tiền ban đầu {amount_2} và lãi suất {interest_2}% là: {round(future_value_2, 2)}\")\n",
        "\n",
        "# Example 3: Different amount, interest, and years\n",
        "amount_3 = 1000\n",
        "interest_3 = 8\n",
        "years_3 = 5\n",
        "future_value_3 = amount_3 * ((1 + (0.01 * interest_3)) ** years_3)\n",
        "print(f\"Giá trị tương lai sau {years_3} năm với số tiền ban đầu {amount_3} và lãi suất {interest_3}% là: {round(future_value_3, 2)}\")"
      ],
      "metadata": {
        "colab": {
          "base_uri": "https://localhost:8080/"
        },
        "id": "ZjyBJr7sibLD",
        "outputId": "371a2220-12eb-469a-d002-2657c22272f4"
      },
      "execution_count": null,
      "outputs": [
        {
          "output_type": "stream",
          "name": "stdout",
          "text": [
            "194.87\n"
          ]
        }
      ]
    },
    {
      "cell_type": "markdown",
      "source": [
        "# Python Data Structures\n"
      ],
      "metadata": {
        "id": "mP1dB0_2ZbLK"
      }
    },
    {
      "cell_type": "markdown",
      "source": [
        "### Lists []"
      ],
      "metadata": {
        "id": "15PI7NKtOfnp"
      }
    },
    {
      "cell_type": "code",
      "source": [
        "# Định nghĩa một danh sách\n",
        "my_list = [60, 70, 80, 90]\n",
        "print(\"Danh sách ban đầu:\", my_list)\n",
        "\n",
        "# Lấy độ dài của danh sách\n",
        "print(\"Độ dài của danh sách:\", len(my_list))\n",
        "\n",
        "# Truy cập các phần tử bằng chỉ mục (index)\n",
        "print(\"Phần tử đầu tiên (chỉ mục 0):\", my_list[0])\n",
        "print(\"Phần tử thứ hai (chỉ mục 1):\", my_list[1])\n",
        "print(\"Phần tử cuối cùng (sử dụng chỉ mục âm -1):\", my_list[-1])\n",
        "\n",
        "# Thêm một phần tử vào cuối danh sách\n",
        "my_list.append(100)\n",
        "print(\"Danh sách sau khi thêm 100:\", my_list)\n",
        "\n",
        "# Xóa một phần tử cụ thể\n",
        "my_list.remove(70)\n",
        "print(\"Danh sách sau khi xóa 70:\", my_list)\n",
        "\n",
        "# Thay đổi một phần tử tại một chỉ mục cụ thể\n",
        "my_list[0] = 55\n",
        "print(\"Danh sách sau khi thay đổi phần tử đầu tiên thành 55:\", my_list)\n",
        "\n",
        "# Cắt danh sách (lấy một danh sách con)\n",
        "print(\"Cắt từ chỉ mục 1 đến chỉ mục 3 (không bao gồm 4):\", my_list[1:4])\n",
        "\n",
        "# Kiểm tra xem một phần tử có trong danh sách hay không\n",
        "print(\"Số 80 có trong danh sách không?\", 80 in my_list)\n",
        "print(\"Số 70 có trong danh sách không?\", 70 in my_list)"
      ],
      "metadata": {
        "colab": {
          "base_uri": "https://localhost:8080/"
        },
        "id": "aMD-Ev2DPQLJ",
        "outputId": "f4a5b202-7e56-4532-e0bc-07ce95be8a02"
      },
      "execution_count": 6,
      "outputs": [
        {
          "output_type": "stream",
          "name": "stdout",
          "text": [
            "Danh sách ban đầu: [60, 70, 80, 90]\n",
            "Độ dài của danh sách: 4\n",
            "Phần tử đầu tiên (chỉ mục 0): 60\n",
            "Phần tử thứ hai (chỉ mục 1): 70\n",
            "Phần tử cuối cùng (sử dụng chỉ mục âm -1): 90\n",
            "Danh sách sau khi thêm 100: [60, 70, 80, 90, 100]\n",
            "Danh sách sau khi xóa 70: [60, 80, 90, 100]\n",
            "Danh sách sau khi thay đổi phần tử đầu tiên thành 55: [55, 80, 90, 100]\n",
            "Cắt từ chỉ mục 1 đến chỉ mục 3 (không bao gồm 4): [80, 90, 100]\n",
            "Số 80 có trong danh sách không? True\n",
            "Số 70 có trong danh sách không? False\n"
          ]
        }
      ]
    },
    {
      "cell_type": "markdown",
      "source": [
        "###Tuples ()"
      ],
      "metadata": {
        "id": "LU67SHIEPshT"
      }
    },
    {
      "cell_type": "code",
      "source": [
        "# Định nghĩa một tuple\n",
        "my_tuple = (10, 20, 30, 40, 50)\n",
        "print(\"Tuple ban đầu:\", my_tuple)\n",
        "\n",
        "# Truy cập các phần tử bằng chỉ mục (index)\n",
        "print(\"Phần tử đầu tiên (chỉ mục 0):\", my_tuple[0])\n",
        "print(\"Phần tử thứ hai (chỉ mục 1):\", my_tuple[1])\n",
        "print(\"Phần tử thứ ba (chỉ mục 2):\", my_tuple[2])\n",
        "print(\"Phần tử cuối cùng (sử dụng chỉ mục âm -1):\", my_tuple[-1])\n",
        "\n",
        "# Tuple là bất biến - bạn không thể thay đổi các phần tử sau khi tạo\n",
        "# Dòng sau sẽ gây ra lỗi:\n",
        "# my_tuple[0] = 5 # Lệnh này sẽ báo lỗi TypeError\n",
        "\n",
        "# Bạn có thể kiểm tra xem một phần tử có tồn tại trong tuple hay không\n",
        "print(\"Số 30 có trong tuple không?\", 30 in my_tuple)\n",
        "print(\"Số 60 có trong tuple không?\", 60 in my_tuple)\n",
        "\n",
        "# Bạn có thể lấy độ dài của một tuple\n",
        "print(\"Độ dài của tuple:\", len(my_tuple))"
      ],
      "metadata": {
        "colab": {
          "base_uri": "https://localhost:8080/"
        },
        "id": "QOGVWz3VPkqB",
        "outputId": "b0d4d351-344f-4c87-8fe3-01a0bde69989"
      },
      "execution_count": 7,
      "outputs": [
        {
          "output_type": "stream",
          "name": "stdout",
          "text": [
            "Tuple ban đầu: (10, 20, 30, 40, 50)\n",
            "Phần tử đầu tiên (chỉ mục 0): 10\n",
            "Phần tử thứ hai (chỉ mục 1): 20\n",
            "Phần tử thứ ba (chỉ mục 2): 30\n",
            "Phần tử cuối cùng (sử dụng chỉ mục âm -1): 50\n",
            "Số 30 có trong tuple không? True\n",
            "Số 60 có trong tuple không? False\n",
            "Độ dài của tuple: 5\n"
          ]
        }
      ]
    },
    {
      "cell_type": "markdown",
      "source": [
        "###Sets {}"
      ],
      "metadata": {
        "id": "YMtW0Wr-Py1o"
      }
    },
    {
      "cell_type": "code",
      "source": [
        "# Working with Sets\n",
        "animals = {'cat', 'dog'}\n",
        "print(\"Initial set of animals:\", animals)\n",
        "\n",
        "print(\"\\nChecking for elements:\")\n",
        "print(\"'cat' in animals:\", 'cat' in animals)\n",
        "print(\"'fish' in animals:\", 'fish' in animals)\n",
        "\n",
        "print(\"\\nAdding an element:\")\n",
        "animals.add('fish')\n",
        "print(\"Set after adding 'fish':\", animals)\n",
        "print(\"'fish' in animals after adding:\", 'fish' in animals)\n",
        "print(\"Length of the set:\", len(animals))\n",
        "\n",
        "print(\"\\nAdding an existing element:\")\n",
        "animals.add('cat') # Adding an existing element does nothing in a set\n",
        "print(\"Set after adding 'cat' again:\", animals)\n",
        "print(\"Length of the set after adding 'cat' again:\", len(animals))\n",
        "\n",
        "print(\"\\nRemoving an element:\")\n",
        "animals.remove('cat')\n",
        "print(\"Set after removing 'cat':\", animals)\n",
        "print(\"Length of the set after removing 'cat':\", len(animals))"
      ],
      "metadata": {
        "colab": {
          "base_uri": "https://localhost:8080/"
        },
        "id": "8FFAPd1HP00D",
        "outputId": "985634bb-a5eb-4be3-f5f7-6c96301a95e0"
      },
      "execution_count": 5,
      "outputs": [
        {
          "output_type": "stream",
          "name": "stdout",
          "text": [
            "Initial set of animals: {'cat', 'dog'}\n",
            "\n",
            "Checking for elements:\n",
            "'cat' in animals: True\n",
            "'fish' in animals: False\n",
            "\n",
            "Adding an element:\n",
            "Set after adding 'fish': {'cat', 'dog', 'fish'}\n",
            "'fish' in animals after adding: True\n",
            "Length of the set: 3\n",
            "\n",
            "Adding an existing element:\n",
            "Set after adding 'cat' again: {'cat', 'dog', 'fish'}\n",
            "Length of the set after adding 'cat' again: 3\n",
            "\n",
            "Removing an element:\n",
            "Set after removing 'cat': {'dog', 'fish'}\n",
            "Length of the set after removing 'cat': 2\n"
          ]
        }
      ]
    },
    {
      "cell_type": "markdown",
      "source": [
        "###Dictionary"
      ],
      "metadata": {
        "id": "7eOv8jneYSbm"
      }
    },
    {
      "cell_type": "code",
      "source": [
        "# Định nghĩa một dictionary\n",
        "my_dict = {\n",
        "    \"brand\": \"Ford\",\n",
        "    \"model\": \"Mustang\",\n",
        "    \"year\": 1964\n",
        "}\n",
        "print(\"Dictionary ban đầu:\", my_dict)\n",
        "\n",
        "# Truy cập các phần tử bằng khóa (key)\n",
        "print(\"Hãng xe (Brand):\", my_dict[\"brand\"])\n",
        "print(\"Mẫu xe (Model):\", my_dict.get(\"model\")) # Cách khác để truy cập\n",
        "\n",
        "# Thay đổi giá trị\n",
        "my_dict[\"year\"] = 2020\n",
        "print(\"Dictionary sau khi thay đổi năm:\", my_dict)\n",
        "\n",
        "# Thêm một cặp khóa-giá trị mới\n",
        "my_dict[\"color\"] = \"red\"\n",
        "print(\"Dictionary sau khi thêm màu:\", my_dict)\n",
        "\n",
        "# Xóa một cặp khóa-giá trị\n",
        "my_dict.pop(\"model\")\n",
        "print(\"Dictionary sau khi xóa mẫu xe:\", my_dict)\n",
        "\n",
        "# Lặp qua dictionary\n",
        "print(\"\\nLặp qua các khóa (keys):\")\n",
        "for key in my_dict:\n",
        "  print(key)\n",
        "\n",
        "print(\"\\nLặp qua các giá trị (values):\")\n",
        "for value in my_dict.values():\n",
        "  print(value)\n",
        "\n",
        "print(\"\\nLặp qua các cặp khóa-giá trị (items):\")\n",
        "for key, value in my_dict.items():\n",
        "  print(key, \":\", value)\n",
        "\n",
        "# Kiểm tra xem một khóa có tồn tại không\n",
        "print(\"\\n'brand' có trong dictionary không?\", \"brand\" in my_dict)\n",
        "print(\"'model' có trong dictionary không?\", \"model\" in my_dict)\n",
        "\n",
        "# Lấy độ dài của dictionary\n",
        "print(\"Độ dài của dictionary:\", len(my_dict))"
      ],
      "metadata": {
        "colab": {
          "base_uri": "https://localhost:8080/"
        },
        "id": "fdEp6ZHvYTXN",
        "outputId": "42cb2056-c3db-436d-df8f-8e0413ca3b40"
      },
      "execution_count": 8,
      "outputs": [
        {
          "output_type": "stream",
          "name": "stdout",
          "text": [
            "Dictionary ban đầu: {'brand': 'Ford', 'model': 'Mustang', 'year': 1964}\n",
            "Hãng xe (Brand): Ford\n",
            "Mẫu xe (Model): Mustang\n",
            "Dictionary sau khi thay đổi năm: {'brand': 'Ford', 'model': 'Mustang', 'year': 2020}\n",
            "Dictionary sau khi thêm màu: {'brand': 'Ford', 'model': 'Mustang', 'year': 2020, 'color': 'red'}\n",
            "Dictionary sau khi xóa mẫu xe: {'brand': 'Ford', 'year': 2020, 'color': 'red'}\n",
            "\n",
            "Lặp qua các khóa (keys):\n",
            "brand\n",
            "year\n",
            "color\n",
            "\n",
            "Lặp qua các giá trị (values):\n",
            "Ford\n",
            "2020\n",
            "red\n",
            "\n",
            "Lặp qua các cặp khóa-giá trị (items):\n",
            "brand : Ford\n",
            "year : 2020\n",
            "color : red\n",
            "\n",
            "'brand' có trong dictionary không? True\n",
            "'model' có trong dictionary không? False\n",
            "Độ dài của dictionary: 3\n"
          ]
        }
      ]
    },
    {
      "cell_type": "markdown",
      "source": [
        "# Python for Finance Applications"
      ],
      "metadata": {
        "id": "zw45sC2EaOYe"
      }
    },
    {
      "cell_type": "code",
      "source": [
        "# Python Lists\n",
        "expenses = [72.50, 80.75, 50.00, 90.25]\n",
        "total_expenses = sum(expenses)\n",
        "print(\"Total expenses:\", total_expenses)\n",
        "\n",
        "# Python Tuples\n",
        "accounts = ((\"Cash\", 1001), (\"Accounts Receivable\", 1002),\n",
        "(\"Inventory\", 1003))\n",
        "for account in accounts:\n",
        "\n",
        " print(\"Account name:\", account[0], \"Account number:\", account[1])\n",
        "\n",
        "# Python Sets\n",
        "account_numbers = {1001, 1002, 1003}\n",
        "new_account_number = 1004\n",
        "if new_account_number not in account_numbers:\n",
        "\n",
        " print(\"Account number\", new_account_number, \"is not in use.\")\n",
        "\n",
        "# Python Dictionaries\n",
        "accounts = {\"1001\": {\"name\": \"Cash\", \"balance\": 500.00, \"type\": \"Asset\"},\n",
        "\"1002\": {\"name\": \"Accounts Receivable\", \"balance\": 1000.00, \"type\": \"Asset\"},\n",
        "\"2001\": {\"name\": \"Accounts Payable\", \"balance\": 750.00, \"type\": \"Liability\"}}\n",
        "for account_number, account_info in accounts.items():\n",
        "  print(\"Account number:\", account_number)\n",
        "  print(\"Account name:\", account_info[\"name\"])\n",
        "  print(\"Account balance:\", account_info[\"balance\"])\n",
        "  print(\"Account type:\", account_info[\"type\"])"
      ],
      "metadata": {
        "colab": {
          "base_uri": "https://localhost:8080/"
        },
        "id": "i_DDTt66aowt",
        "outputId": "38dcad89-8403-4a3a-80f2-c3d33fbf27c3"
      },
      "execution_count": 11,
      "outputs": [
        {
          "output_type": "stream",
          "name": "stdout",
          "text": [
            "Total expenses: 293.5\n",
            "Account name: Cash Account number: 1001\n",
            "Account name: Accounts Receivable Account number: 1002\n",
            "Account name: Inventory Account number: 1003\n",
            "Account number 1004 is not in use.\n",
            "Account number: 1001\n",
            "Account name: Cash\n",
            "Account balance: 500.0\n",
            "Account type: Asset\n",
            "Account number: 1002\n",
            "Account name: Accounts Receivable\n",
            "Account balance: 1000.0\n",
            "Account type: Asset\n",
            "Account number: 2001\n",
            "Account name: Accounts Payable\n",
            "Account balance: 750.0\n",
            "Account type: Liability\n"
          ]
        }
      ]
    },
    {
      "cell_type": "markdown",
      "source": [
        "# Python Control Logic and Loops"
      ],
      "metadata": {
        "id": "mxm1T9zUbIyD"
      }
    },
    {
      "cell_type": "markdown",
      "source": [
        "##Python if"
      ],
      "metadata": {
        "id": "GSigmsnfcPeB"
      }
    },
    {
      "cell_type": "code",
      "source": [
        "# Example of an if statement\n",
        "\n",
        "score = 80\n",
        "\n",
        "if score >= 60:\n",
        "  print(\"Bạn đã đỗ kỳ thi.\")"
      ],
      "metadata": {
        "colab": {
          "base_uri": "https://localhost:8080/"
        },
        "id": "ymzY9Bo7cQ3j",
        "outputId": "555a31b2-cb09-4ff2-eb72-5dfc4cb3b0e2"
      },
      "execution_count": 12,
      "outputs": [
        {
          "output_type": "stream",
          "name": "stdout",
          "text": [
            "Bạn đã đỗ kỳ thi.\n"
          ]
        }
      ]
    },
    {
      "cell_type": "markdown",
      "source": [
        "## Python if else"
      ],
      "metadata": {
        "id": "1Hw12-JTcrjk"
      }
    },
    {
      "cell_type": "code",
      "source": [
        "# Example of an if else statement\n",
        "\n",
        "temperature = 15\n",
        "\n",
        "if temperature > 20:\n",
        "  print(\"Thời tiết ấm áp.\")\n",
        "else:\n",
        "  print(\"Thời tiết lạnh.\")"
      ],
      "metadata": {
        "colab": {
          "base_uri": "https://localhost:8080/"
        },
        "id": "W-k9XsNuc38M",
        "outputId": "23613b7d-bcf8-46ba-d9e1-081e500e168f"
      },
      "execution_count": 13,
      "outputs": [
        {
          "output_type": "stream",
          "name": "stdout",
          "text": [
            "Thời tiết lạnh.\n"
          ]
        }
      ]
    },
    {
      "cell_type": "markdown",
      "source": [
        "## Python if elif else"
      ],
      "metadata": {
        "id": "d7uhLiMsdGzT"
      }
    },
    {
      "cell_type": "code",
      "source": [
        "# Example of an if elif else statement\n",
        "\n",
        "score = 75\n",
        "\n",
        "if score >= 90:\n",
        "  print(\"Bạn đạt điểm A.\")\n",
        "elif score >= 80:\n",
        "  print(\"Bạn đạt điểm B.\")\n",
        "elif score >= 70:\n",
        "  print(\"Bạn đạt điểm C.\")\n",
        "else:\n",
        "  print(\"Bạn cần cố gắng hơn.\")"
      ],
      "metadata": {
        "colab": {
          "base_uri": "https://localhost:8080/"
        },
        "id": "IizSGuGfdJB-",
        "outputId": "4e7172d1-ff13-473e-c10b-c2d41858066c"
      },
      "execution_count": 14,
      "outputs": [
        {
          "output_type": "stream",
          "name": "stdout",
          "text": [
            "Bạn đạt điểm C.\n"
          ]
        }
      ]
    },
    {
      "cell_type": "markdown",
      "source": [
        "## Python for Loops"
      ],
      "metadata": {
        "id": "TIfAL5Tbda2e"
      }
    },
    {
      "cell_type": "code",
      "source": [
        "# Ví dụ về vòng lặp for\n",
        "\n",
        "fruits = [\"táo\", \"chuối\", \"anh đào\"]\n",
        "\n",
        "print(\"Lặp qua danh sách trái cây:\")\n",
        "for fruit in fruits:\n",
        "  print(fruit)\n",
        "\n",
        "print(\"\\nLặp qua một chuỗi:\")\n",
        "for letter in \"Python\":\n",
        "  print(letter)\n",
        "\n",
        "print(\"\\nLặp qua một dãy số sử dụng range():\")\n",
        "for i in range(5):\n",
        "  print(i)"
      ],
      "metadata": {
        "colab": {
          "base_uri": "https://localhost:8080/"
        },
        "id": "TfdfkZUHde2i",
        "outputId": "49db0473-2862-4253-9289-ac77923efbe5"
      },
      "execution_count": 15,
      "outputs": [
        {
          "output_type": "stream",
          "name": "stdout",
          "text": [
            "Lặp qua danh sách trái cây:\n",
            "táo\n",
            "chuối\n",
            "anh đào\n",
            "\n",
            "Lặp qua một chuỗi:\n",
            "P\n",
            "y\n",
            "t\n",
            "h\n",
            "o\n",
            "n\n",
            "\n",
            "Lặp qua một dãy số sử dụng range():\n",
            "0\n",
            "1\n",
            "2\n",
            "3\n",
            "4\n"
          ]
        }
      ]
    },
    {
      "cell_type": "markdown",
      "source": [
        "##Python while Loops\n"
      ],
      "metadata": {
        "id": "pz0Z6rGzd626"
      }
    },
    {
      "cell_type": "code",
      "source": [
        "# Example of a while loop\n",
        "\n",
        "count = 0\n",
        "while count < 5:\n",
        "  print(\"Count is:\", count)\n",
        "  count += 1"
      ],
      "metadata": {
        "colab": {
          "base_uri": "https://localhost:8080/"
        },
        "id": "OJ_lRogHd8wL",
        "outputId": "61135bef-747c-4119-a179-c5a8f1aec6f8"
      },
      "execution_count": 16,
      "outputs": [
        {
          "output_type": "stream",
          "name": "stdout",
          "text": [
            "Count is: 0\n",
            "Count is: 1\n",
            "Count is: 2\n",
            "Count is: 3\n",
            "Count is: 4\n"
          ]
        }
      ]
    },
    {
      "cell_type": "markdown",
      "source": [
        "#Python Functions\n"
      ],
      "metadata": {
        "id": "RZAVc8Y-eOZA"
      }
    },
    {
      "cell_type": "markdown",
      "source": [
        "## Python Function def"
      ],
      "metadata": {
        "id": "ZZNDLfyRegVR"
      }
    },
    {
      "cell_type": "code",
      "metadata": {
        "colab": {
          "base_uri": "https://localhost:8080/"
        },
        "id": "z3EYmdGmeP_2",
        "outputId": "65b62204-8ad8-478b-c116-35cb5dd201a5"
      },
      "source": [
        "# Ví dụ về định nghĩa và gọi hàm\n",
        "\n",
        "def chao_hoi(ten):\n",
        "  \"\"\"Hàm này dùng để chào hỏi người được truyền vào làm tham số.\"\"\"\n",
        "  print(\"Xin chào, \" + ten + \". Chúc buổi sáng tốt lành!\")\n",
        "\n",
        "# Gọi hàm\n",
        "chao_hoi('Alice')\n",
        "chao_hoi('Bob')\n",
        "\n",
        "# Ví dụ về hàm có giá trị trả về\n",
        "def cong_hai_so(so1, so2):\n",
        "  \"\"\"Hàm này nhận hai số và trả về tổng của chúng.\"\"\"\n",
        "  return so1 + so2\n",
        "\n",
        "# Gọi hàm và lưu kết quả\n",
        "ket_qua = cong_hai_so(5, 3)\n",
        "print(\"\\nTổng của 5 và 3:\", ket_qua)"
      ],
      "execution_count": 17,
      "outputs": [
        {
          "output_type": "stream",
          "name": "stdout",
          "text": [
            "Xin chào, Alice. Chúc buổi sáng tốt lành!\n",
            "Xin chào, Bob. Chúc buổi sáng tốt lành!\n",
            "\n",
            "Tổng của 5 và 3: 8\n"
          ]
        }
      ]
    },
    {
      "cell_type": "code",
      "source": [],
      "metadata": {
        "id": "IRiTOwi8etSv"
      },
      "execution_count": null,
      "outputs": []
    }
  ]
}