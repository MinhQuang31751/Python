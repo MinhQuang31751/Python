{
  "nbformat": 4,
  "nbformat_minor": 0,
  "metadata": {
    "colab": {
      "provenance": [],
      "collapsed_sections": [
        "0nDSgLsqbbPn",
        "1kWkBnEIgBir",
        "9gNG4MaVWjDC",
        "VinXmjADXVJz",
        "tSJKusv-XxLV",
        "S7vBDH9qYOAF",
        "XvNWXOUHZfoz",
        "gVH5n7A9ZpVX",
        "2BoK3JVFZ9I8",
        "8H3GWv-jaGQu",
        "XE0AydHdiXc_",
        "lh6PWD9Zi2Ij",
        "mP1dB0_2ZbLK",
        "zw45sC2EaOYe",
        "mxm1T9zUbIyD",
        "RZAVc8Y-eOZA",
        "ZZNDLfyRegVR",
        "47uEnQh9fkAk",
        "cmXBiOnLf_jI",
        "vh5cjjCvdLVq",
        "UqZqweK2dF_T",
        "vv_ol9EYcuGZ",
        "GUdy9oxMieAH",
        "8em_s7kXkYcd",
        "nKGnTfZQkbvG",
        "Tah1WYtvm6aL",
        "TEv-Lp2anYoW",
        "roUlPR1rntyy",
        "OAIPcdhOp9Jj",
        "r7TE1w9wsmZz",
        "P9o0VlQOyQx3",
        "YgPpiTFTycHq",
        "14dJIGicyW68"
      ],
      "authorship_tag": "ABX9TyPAJ2z10KT7ZC4yyIBuwsha",
      "include_colab_link": true
    },
    "kernelspec": {
      "name": "python3",
      "display_name": "Python 3"
    },
    "language_info": {
      "name": "python"
    }
  },
  "cells": [
    {
      "cell_type": "markdown",
      "metadata": {
        "id": "view-in-github",
        "colab_type": "text"
      },
      "source": [
        "<a href=\"https://colab.research.google.com/github/MinhQuang31751/Python/blob/main/Python_Programming.ipynb\" target=\"_parent\"><img src=\"https://colab.research.google.com/assets/colab-badge.svg\" alt=\"Open In Colab\"/></a>"
      ]
    },
    {
      "cell_type": "markdown",
      "source": [
        "# Bắt đầu"
      ],
      "metadata": {
        "id": "3Tjkqlu6V_bc"
      }
    },
    {
      "cell_type": "markdown",
      "source": [
        "#Python Programming"
      ],
      "metadata": {
        "id": "0nDSgLsqbbPn"
      }
    },
    {
      "cell_type": "markdown",
      "source": [
        "##Python Hello World"
      ],
      "metadata": {
        "id": "1kWkBnEIgBir"
      }
    },
    {
      "cell_type": "code",
      "source": [
        "\n",
        "print(\"Hello World\")"
      ],
      "metadata": {
        "colab": {
          "base_uri": "https://localhost:8080/"
        },
        "id": "ge7_v3MHWQrZ",
        "outputId": "bcfcf6eb-2eb3-4b7b-d8bd-2502cbd4efd9"
      },
      "execution_count": null,
      "outputs": [
        {
          "output_type": "stream",
          "name": "stdout",
          "text": [
            "Hello World\n"
          ]
        }
      ]
    },
    {
      "cell_type": "markdown",
      "source": [
        "## Python Syntax"
      ],
      "metadata": {
        "id": "9gNG4MaVWjDC"
      }
    },
    {
      "cell_type": "code",
      "source": [
        "score = 80\n",
        "if score >=60 :\n",
        "  print(\"Pass\")"
      ],
      "metadata": {
        "colab": {
          "base_uri": "https://localhost:8080/"
        },
        "id": "vDsLH5fsXA6g",
        "outputId": "867bfb06-df59-4fc3-96db-809357bfbf3f"
      },
      "execution_count": null,
      "outputs": [
        {
          "output_type": "stream",
          "name": "stdout",
          "text": [
            "Pass\n"
          ]
        }
      ]
    },
    {
      "cell_type": "markdown",
      "source": [
        "##Python Variables"
      ],
      "metadata": {
        "id": "VinXmjADXVJz"
      }
    },
    {
      "cell_type": "code",
      "source": [
        "# Python Variables\n",
        "x = 2\n",
        "price = 2.5\n",
        "word = 'Hello'\n",
        "\n",
        "word = 'Hello'\n",
        "word = \"Hello\"\n",
        "word = '''Hello'''\n",
        "x = 2\n",
        "y = x + 1\n",
        "\n",
        "print(\"Giá trị của x là:\", x)\n",
        "print(\"Giá trị của y là:\", y)\n",
        "print(\"Giá trị của price là:\", price)\n",
        "print(\"Giá trị của word là:\", word)"
      ],
      "metadata": {
        "colab": {
          "base_uri": "https://localhost:8080/"
        },
        "id": "tL4GoQhDXXCk",
        "outputId": "3e1072b9-de99-4cfa-8531-ff9deaff9222"
      },
      "execution_count": null,
      "outputs": [
        {
          "output_type": "stream",
          "name": "stdout",
          "text": [
            "Giá trị của x là: 2\n",
            "Giá trị của y là: 3\n",
            "Giá trị của price là: 2.5\n",
            "Giá trị của word là: Hello\n"
          ]
        }
      ]
    },
    {
      "cell_type": "markdown",
      "source": [
        "##python_version()"
      ],
      "metadata": {
        "id": "tSJKusv-XxLV"
      }
    },
    {
      "cell_type": "code",
      "source": [
        "from platform import python_version\n",
        "print(\"Python Version:\", python_version())"
      ],
      "metadata": {
        "colab": {
          "base_uri": "https://localhost:8080/"
        },
        "id": "EFVbTei1Xzq1",
        "outputId": "85677d01-7327-42e9-9818-0ec2d520a3a6"
      },
      "execution_count": null,
      "outputs": [
        {
          "output_type": "stream",
          "name": "stdout",
          "text": [
            "Python Version: 3.12.11\n"
          ]
        }
      ]
    },
    {
      "cell_type": "markdown",
      "source": [
        "##Python Data Types"
      ],
      "metadata": {
        "id": "S7vBDH9qYOAF"
      }
    },
    {
      "cell_type": "code",
      "source": [
        "string_variable = \"Hello World\" #str\n",
        "print(\"Value:\", string_variable, \", Type:\", type(string_variable))\n",
        "\n",
        "integer_variable = 2 #int\n",
        "print(\"Value:\", integer_variable, \", Type:\", type(integer_variable))\n",
        "\n",
        "float_variable = 2.5 #float\n",
        "print(\"Value:\", float_variable, \", Type:\", type(float_variable))\n",
        "\n",
        "complex_variable = 7j #complex\n",
        "print(\"Value:\", complex_variable, \", Type:\", type(complex_variable))\n",
        "\n",
        "list_variable = [\"apple\", \"banana\", \"cherry\"] #list\n",
        "print(\"Value:\", list_variable, \", Type:\", type(list_variable))\n",
        "\n",
        "tuple_variable = (\"apple\", \"banana\", \"cherry\") #tuple\n",
        "print(\"Value:\", tuple_variable, \", Type:\", type(tuple_variable))\n",
        "\n",
        "range_variable = range(6) #range\n",
        "print(\"Value:\", range_variable, \", Type:\", type(range_variable))\n",
        "\n",
        "dictionary_variable = {\"name\" : \"Tom\", \"age\" : 20} #dict\n",
        "print(\"Value:\", dictionary_variable, \", Type:\", type(dictionary_variable))\n",
        "\n",
        "set_variable = {\"apple\", \"banana\", \"cherry\"} #set\n",
        "print(\"Value:\", set_variable, \", Type:\", type(set_variable))\n",
        "\n",
        "frozenset_variable = frozenset({\"apple\", \"banana\", \"cherry\"})\n",
        "#frozenset\n",
        "print(\"Value:\", frozenset_variable, \", Type:\", type(frozenset_variable))\n",
        "\n",
        "boolean_variable = True #bool\n",
        "print(\"Value:\", boolean_variable, \", Type:\", type(boolean_variable))\n",
        "\n",
        "bytes_variable = b\"Hello\" #bytes\n",
        "print(\"Value:\", bytes_variable, \", Type:\", type(bytes_variable))\n",
        "\n",
        "bytearray_variable = bytearray(5) #bytearray\n",
        "print(\"Value:\", bytearray_variable, \", Type:\", type(bytearray_variable))\n",
        "\n",
        "memoryview_variable = memoryview(bytes(5)) #memoryview\n",
        "print(\"Value:\", memoryview_variable, \", Type:\", type(memoryview_variable))\n",
        "\n",
        "none_variable = None #NoneType\n",
        "print(\"Value:\", none_variable, \", Type:\", type(none_variable))"
      ],
      "metadata": {
        "colab": {
          "base_uri": "https://localhost:8080/"
        },
        "id": "676_9QdBYPdZ",
        "outputId": "f240ec19-5c67-4cab-bb20-51bae72c1b79"
      },
      "execution_count": null,
      "outputs": [
        {
          "output_type": "stream",
          "name": "stdout",
          "text": [
            "Value: Hello World , Type: <class 'str'>\n",
            "Value: 2 , Type: <class 'int'>\n",
            "Value: 2.5 , Type: <class 'float'>\n",
            "Value: 7j , Type: <class 'complex'>\n",
            "Value: ['apple', 'banana', 'cherry'] , Type: <class 'list'>\n",
            "Value: ('apple', 'banana', 'cherry') , Type: <class 'tuple'>\n",
            "Value: range(0, 6) , Type: <class 'range'>\n",
            "Value: {'name': 'Tom', 'age': 20} , Type: <class 'dict'>\n",
            "Value: {'cherry', 'apple', 'banana'} , Type: <class 'set'>\n",
            "Value: frozenset({'cherry', 'apple', 'banana'}) , Type: <class 'frozenset'>\n",
            "Value: True , Type: <class 'bool'>\n",
            "Value: b'Hello' , Type: <class 'bytes'>\n",
            "Value: bytearray(b'\\x00\\x00\\x00\\x00\\x00') , Type: <class 'bytearray'>\n",
            "Value: <memory at 0x7d9370f68d00> , Type: <class 'memoryview'>\n",
            "Value: None , Type: <class 'NoneType'>\n"
          ]
        }
      ]
    },
    {
      "cell_type": "markdown",
      "source": [
        "##Python Casting"
      ],
      "metadata": {
        "id": "XvNWXOUHZfoz"
      }
    },
    {
      "cell_type": "code",
      "source": [
        "x = str(3) # x will be '3'\n",
        "y = int(3) # y will be 3\n",
        "z = float(3) # z will be 3.0\n",
        "print(x, type(x))\n",
        "print(y, type(y))\n",
        "print(z, type(z))"
      ],
      "metadata": {
        "colab": {
          "base_uri": "https://localhost:8080/"
        },
        "id": "ltNoit48Zi51",
        "outputId": "896c71e4-59e3-4d13-912c-d3810c52742f"
      },
      "execution_count": null,
      "outputs": [
        {
          "output_type": "stream",
          "name": "stdout",
          "text": [
            "3 <class 'str'>\n",
            "3 <class 'int'>\n",
            "3.0 <class 'float'>\n"
          ]
        }
      ]
    },
    {
      "cell_type": "markdown",
      "source": [
        "##Python Numbers\n"
      ],
      "metadata": {
        "id": "gVH5n7A9ZpVX"
      }
    },
    {
      "cell_type": "code",
      "source": [
        "x = 2 # int\n",
        "y = 3.4 # float\n",
        "z = 7j #complex\n",
        "print(x, type(x))\n",
        "print(y, type(y))\n",
        "print(z, type(z))"
      ],
      "metadata": {
        "colab": {
          "base_uri": "https://localhost:8080/"
        },
        "id": "wN1HaIRdZhJj",
        "outputId": "b85a1dd5-4f2f-4fcf-e85b-3dccb820a1bf"
      },
      "execution_count": null,
      "outputs": [
        {
          "output_type": "stream",
          "name": "stdout",
          "text": [
            "2 <class 'int'>\n",
            "3.4 <class 'float'>\n",
            "7j <class 'complex'>\n"
          ]
        }
      ]
    },
    {
      "cell_type": "markdown",
      "source": [
        "##Python Basic Operators\n"
      ],
      "metadata": {
        "id": "2BoK3JVFZ9I8"
      }
    },
    {
      "cell_type": "code",
      "source": [
        "print('7 + 2 =', 7 + 2)\n",
        "print('7 - 2 =', 7 - 2)\n",
        "print('7 * 2 =', 7 * 2)\n",
        "print('7 / 2 =', 7 / 2)\n",
        "print('7 // 2 =', 7 // 2)\n",
        "print('7 % 2 =', 7 % 2)\n",
        "print('7 ** 2 =', 7 ** 2)"
      ],
      "metadata": {
        "colab": {
          "base_uri": "https://localhost:8080/"
        },
        "id": "eel7Fj36Z9yz",
        "outputId": "71446db0-88be-4183-f5c8-cf9be3017ddd"
      },
      "execution_count": null,
      "outputs": [
        {
          "output_type": "stream",
          "name": "stdout",
          "text": [
            "7 + 2 = 9\n",
            "7 - 2 = 5\n",
            "7 * 2 = 14\n",
            "7 / 2 = 3.5\n",
            "7 // 2 = 3\n",
            "7 % 2 = 1\n",
            "7 ** 2 = 49\n"
          ]
        }
      ]
    },
    {
      "cell_type": "markdown",
      "source": [
        "##Python Booleans: True or False"
      ],
      "metadata": {
        "id": "8H3GWv-jaGQu"
      }
    },
    {
      "cell_type": "code",
      "source": [
        "# Python Booleans: True or False\n",
        "for a, b in [(2, 5), (5, 2), (5, 5)]:\n",
        "    print(\"-\"*50)\n",
        "    print(f\"a<b: ({a}<{b}): {a<b}\")\n",
        "    print(f\"a>b: ({a}>{b}): {a>b}\")\n",
        "    print(f\"a<=b: ({a}<={b}): {a<=b}\")\n",
        "    print(f\"a>=b: ({a}>={b}): {a>=b}\")\n",
        "    print(f\"a==b: ({a}=={b}): {a==b}\")\n",
        "    print(f\"a!=b: ({a}!={b}): {a!=b}\")"
      ],
      "metadata": {
        "colab": {
          "base_uri": "https://localhost:8080/"
        },
        "id": "tE3tY54paAHx",
        "outputId": "3b3f053a-5361-453c-ba1a-743254b1a70c"
      },
      "execution_count": null,
      "outputs": [
        {
          "output_type": "stream",
          "name": "stdout",
          "text": [
            "--------------------------------------------------\n",
            "a<b: (2<5): True\n",
            "a>b: (2>5): False\n",
            "a<=b: (2<=5): True\n",
            "a>=b: (2>=5): False\n",
            "a==b: (2==5): False\n",
            "a!=b: (2!=5): True\n",
            "--------------------------------------------------\n",
            "a<b: (5<2): False\n",
            "a>b: (5>2): True\n",
            "a<=b: (5<=2): False\n",
            "a>=b: (5>=2): True\n",
            "a==b: (5==2): False\n",
            "a!=b: (5!=2): True\n",
            "--------------------------------------------------\n",
            "a<b: (5<5): False\n",
            "a>b: (5>5): False\n",
            "a<=b: (5<=5): True\n",
            "a>=b: (5>=5): True\n",
            "a==b: (5==5): True\n",
            "a!=b: (5!=5): False\n"
          ]
        }
      ]
    },
    {
      "cell_type": "markdown",
      "source": [
        "##Python BMI Calculator"
      ],
      "metadata": {
        "id": "XE0AydHdiXc_"
      }
    },
    {
      "cell_type": "code",
      "source": [
        "# BMI Calculator in Python\n",
        "height_cm = 170\n",
        "weight_kg = 60\n",
        "height_m = height_cm/100\n",
        "BMI = (weight_kg/(height_m**2))\n",
        "\n",
        "# How much is your $100 worth after 7 years?\n",
        "fv = 100 * 1.1 ** 7\n",
        "\n",
        "\n",
        "print(\"Your BMI is: \" + str(round(BMI,1)))\n",
        "print('fv = ', round(fv, 2))\n",
        "\n"
      ],
      "metadata": {
        "id": "Wbi6RNAKaMLC",
        "colab": {
          "base_uri": "https://localhost:8080/"
        },
        "outputId": "b3e4281e-14d2-48a0-cdde-cbe4f447d7e2"
      },
      "execution_count": null,
      "outputs": [
        {
          "output_type": "stream",
          "name": "stdout",
          "text": [
            "fv =  194.87\n",
            "Your BMI is: 20.8\n"
          ]
        }
      ]
    },
    {
      "cell_type": "markdown",
      "source": [
        "##Future Value"
      ],
      "metadata": {
        "id": "lh6PWD9Zi2Ij"
      }
    },
    {
      "cell_type": "code",
      "source": [
        "amount = 100\n",
        "interest = 10 #10% = 0.01 * 10\n",
        "years = 7\n",
        "\n",
        "future_value = amount * ((1 + (0.01 * interest)) ** years)\n",
        "print(f\"Giá trị tương lai sau {years} năm với số tiền ban đầu {amount} và lãi suất {interest}% là: {round(future_value, 2)}\")\n",
        "\n",
        "# Example 2: Different amount and interest\n",
        "amount_2 = 500\n",
        "interest_2 = 5\n",
        "years_2 = 10\n",
        "future_value_2 = amount_2 * ((1 + (0.01 * interest_2)) ** years_2)\n",
        "print(f\"Giá trị tương lai sau {years_2} năm với số tiền ban đầu {amount_2} và lãi suất {interest_2}% là: {round(future_value_2, 2)}\")\n",
        "\n",
        "# Example 3: Different amount, interest, and years\n",
        "amount_3 = 1000\n",
        "interest_3 = 8\n",
        "years_3 = 5\n",
        "future_value_3 = amount_3 * ((1 + (0.01 * interest_3)) ** years_3)\n",
        "print(f\"Giá trị tương lai sau {years_3} năm với số tiền ban đầu {amount_3} và lãi suất {interest_3}% là: {round(future_value_3, 2)}\")"
      ],
      "metadata": {
        "colab": {
          "base_uri": "https://localhost:8080/"
        },
        "id": "ZjyBJr7sibLD",
        "outputId": "371a2220-12eb-469a-d002-2657c22272f4"
      },
      "execution_count": null,
      "outputs": [
        {
          "output_type": "stream",
          "name": "stdout",
          "text": [
            "194.87\n"
          ]
        }
      ]
    },
    {
      "cell_type": "markdown",
      "source": [
        "# Python Data Structures\n"
      ],
      "metadata": {
        "id": "mP1dB0_2ZbLK"
      }
    },
    {
      "cell_type": "markdown",
      "source": [
        "### Lists []"
      ],
      "metadata": {
        "id": "15PI7NKtOfnp"
      }
    },
    {
      "cell_type": "code",
      "source": [
        "# Định nghĩa một danh sách\n",
        "my_list = [60, 70, 80, 90]\n",
        "print(\"Danh sách ban đầu:\", my_list)\n",
        "\n",
        "# Lấy độ dài của danh sách\n",
        "print(\"Độ dài của danh sách:\", len(my_list))\n",
        "\n",
        "# Truy cập các phần tử bằng chỉ mục (index)\n",
        "print(\"Phần tử đầu tiên (chỉ mục 0):\", my_list[0])\n",
        "print(\"Phần tử thứ hai (chỉ mục 1):\", my_list[1])\n",
        "print(\"Phần tử cuối cùng (sử dụng chỉ mục âm -1):\", my_list[-1])\n",
        "\n",
        "# Thêm một phần tử vào cuối danh sách\n",
        "my_list.append(100)\n",
        "print(\"Danh sách sau khi thêm 100:\", my_list)\n",
        "\n",
        "# Xóa một phần tử cụ thể\n",
        "my_list.remove(70)\n",
        "print(\"Danh sách sau khi xóa 70:\", my_list)\n",
        "\n",
        "# Thay đổi một phần tử tại một chỉ mục cụ thể\n",
        "my_list[0] = 55\n",
        "print(\"Danh sách sau khi thay đổi phần tử đầu tiên thành 55:\", my_list)\n",
        "\n",
        "# Cắt danh sách (lấy một danh sách con)\n",
        "print(\"Cắt từ chỉ mục 1 đến chỉ mục 3 (không bao gồm 4):\", my_list[1:4])\n",
        "\n",
        "# Kiểm tra xem một phần tử có trong danh sách hay không\n",
        "print(\"Số 80 có trong danh sách không?\", 80 in my_list)\n",
        "print(\"Số 70 có trong danh sách không?\", 70 in my_list)"
      ],
      "metadata": {
        "colab": {
          "base_uri": "https://localhost:8080/"
        },
        "id": "aMD-Ev2DPQLJ",
        "outputId": "f4a5b202-7e56-4532-e0bc-07ce95be8a02"
      },
      "execution_count": null,
      "outputs": [
        {
          "output_type": "stream",
          "name": "stdout",
          "text": [
            "Danh sách ban đầu: [60, 70, 80, 90]\n",
            "Độ dài của danh sách: 4\n",
            "Phần tử đầu tiên (chỉ mục 0): 60\n",
            "Phần tử thứ hai (chỉ mục 1): 70\n",
            "Phần tử cuối cùng (sử dụng chỉ mục âm -1): 90\n",
            "Danh sách sau khi thêm 100: [60, 70, 80, 90, 100]\n",
            "Danh sách sau khi xóa 70: [60, 80, 90, 100]\n",
            "Danh sách sau khi thay đổi phần tử đầu tiên thành 55: [55, 80, 90, 100]\n",
            "Cắt từ chỉ mục 1 đến chỉ mục 3 (không bao gồm 4): [80, 90, 100]\n",
            "Số 80 có trong danh sách không? True\n",
            "Số 70 có trong danh sách không? False\n"
          ]
        }
      ]
    },
    {
      "cell_type": "markdown",
      "source": [
        "###Tuples ()"
      ],
      "metadata": {
        "id": "LU67SHIEPshT"
      }
    },
    {
      "cell_type": "code",
      "source": [
        "# Định nghĩa một tuple\n",
        "my_tuple = (10, 20, 30, 40, 50)\n",
        "print(\"Tuple ban đầu:\", my_tuple)\n",
        "\n",
        "# Truy cập các phần tử bằng chỉ mục (index)\n",
        "print(\"Phần tử đầu tiên (chỉ mục 0):\", my_tuple[0])\n",
        "print(\"Phần tử thứ hai (chỉ mục 1):\", my_tuple[1])\n",
        "print(\"Phần tử thứ ba (chỉ mục 2):\", my_tuple[2])\n",
        "print(\"Phần tử cuối cùng (sử dụng chỉ mục âm -1):\", my_tuple[-1])\n",
        "\n",
        "# Tuple là bất biến - bạn không thể thay đổi các phần tử sau khi tạo\n",
        "# Dòng sau sẽ gây ra lỗi:\n",
        "# my_tuple[0] = 5 # Lệnh này sẽ báo lỗi TypeError\n",
        "\n",
        "# Bạn có thể kiểm tra xem một phần tử có tồn tại trong tuple hay không\n",
        "print(\"Số 30 có trong tuple không?\", 30 in my_tuple)\n",
        "print(\"Số 60 có trong tuple không?\", 60 in my_tuple)\n",
        "\n",
        "# Bạn có thể lấy độ dài của một tuple\n",
        "print(\"Độ dài của tuple:\", len(my_tuple))"
      ],
      "metadata": {
        "colab": {
          "base_uri": "https://localhost:8080/"
        },
        "id": "QOGVWz3VPkqB",
        "outputId": "b0d4d351-344f-4c87-8fe3-01a0bde69989"
      },
      "execution_count": null,
      "outputs": [
        {
          "output_type": "stream",
          "name": "stdout",
          "text": [
            "Tuple ban đầu: (10, 20, 30, 40, 50)\n",
            "Phần tử đầu tiên (chỉ mục 0): 10\n",
            "Phần tử thứ hai (chỉ mục 1): 20\n",
            "Phần tử thứ ba (chỉ mục 2): 30\n",
            "Phần tử cuối cùng (sử dụng chỉ mục âm -1): 50\n",
            "Số 30 có trong tuple không? True\n",
            "Số 60 có trong tuple không? False\n",
            "Độ dài của tuple: 5\n"
          ]
        }
      ]
    },
    {
      "cell_type": "markdown",
      "source": [
        "###Sets {}"
      ],
      "metadata": {
        "id": "YMtW0Wr-Py1o"
      }
    },
    {
      "cell_type": "code",
      "source": [
        "# Working with Sets\n",
        "animals = {'cat', 'dog'}\n",
        "print(\"Initial set of animals:\", animals)\n",
        "\n",
        "print(\"\\nChecking for elements:\")\n",
        "print(\"'cat' in animals:\", 'cat' in animals)\n",
        "print(\"'fish' in animals:\", 'fish' in animals)\n",
        "\n",
        "print(\"\\nAdding an element:\")\n",
        "animals.add('fish')\n",
        "print(\"Set after adding 'fish':\", animals)\n",
        "print(\"'fish' in animals after adding:\", 'fish' in animals)\n",
        "print(\"Length of the set:\", len(animals))\n",
        "\n",
        "print(\"\\nAdding an existing element:\")\n",
        "animals.add('cat') # Adding an existing element does nothing in a set\n",
        "print(\"Set after adding 'cat' again:\", animals)\n",
        "print(\"Length of the set after adding 'cat' again:\", len(animals))\n",
        "\n",
        "print(\"\\nRemoving an element:\")\n",
        "animals.remove('cat')\n",
        "print(\"Set after removing 'cat':\", animals)\n",
        "print(\"Length of the set after removing 'cat':\", len(animals))"
      ],
      "metadata": {
        "colab": {
          "base_uri": "https://localhost:8080/"
        },
        "id": "8FFAPd1HP00D",
        "outputId": "985634bb-a5eb-4be3-f5f7-6c96301a95e0"
      },
      "execution_count": null,
      "outputs": [
        {
          "output_type": "stream",
          "name": "stdout",
          "text": [
            "Initial set of animals: {'cat', 'dog'}\n",
            "\n",
            "Checking for elements:\n",
            "'cat' in animals: True\n",
            "'fish' in animals: False\n",
            "\n",
            "Adding an element:\n",
            "Set after adding 'fish': {'cat', 'dog', 'fish'}\n",
            "'fish' in animals after adding: True\n",
            "Length of the set: 3\n",
            "\n",
            "Adding an existing element:\n",
            "Set after adding 'cat' again: {'cat', 'dog', 'fish'}\n",
            "Length of the set after adding 'cat' again: 3\n",
            "\n",
            "Removing an element:\n",
            "Set after removing 'cat': {'dog', 'fish'}\n",
            "Length of the set after removing 'cat': 2\n"
          ]
        }
      ]
    },
    {
      "cell_type": "markdown",
      "source": [
        "###Dictionary"
      ],
      "metadata": {
        "id": "7eOv8jneYSbm"
      }
    },
    {
      "cell_type": "code",
      "source": [
        "# Định nghĩa một dictionary\n",
        "my_dict = {\n",
        "    \"brand\": \"Ford\",\n",
        "    \"model\": \"Mustang\",\n",
        "    \"year\": 1964\n",
        "}\n",
        "print(\"Dictionary ban đầu:\", my_dict)\n",
        "\n",
        "# Truy cập các phần tử bằng khóa (key)\n",
        "print(\"Hãng xe (Brand):\", my_dict[\"brand\"])\n",
        "print(\"Mẫu xe (Model):\", my_dict.get(\"model\")) # Cách khác để truy cập\n",
        "\n",
        "# Thay đổi giá trị\n",
        "my_dict[\"year\"] = 2020\n",
        "print(\"Dictionary sau khi thay đổi năm:\", my_dict)\n",
        "\n",
        "# Thêm một cặp khóa-giá trị mới\n",
        "my_dict[\"color\"] = \"red\"\n",
        "print(\"Dictionary sau khi thêm màu:\", my_dict)\n",
        "\n",
        "# Xóa một cặp khóa-giá trị\n",
        "my_dict.pop(\"model\")\n",
        "print(\"Dictionary sau khi xóa mẫu xe:\", my_dict)\n",
        "\n",
        "# Lặp qua dictionary\n",
        "print(\"\\nLặp qua các khóa (keys):\")\n",
        "for key in my_dict:\n",
        "  print(key)\n",
        "\n",
        "print(\"\\nLặp qua các giá trị (values):\")\n",
        "for value in my_dict.values():\n",
        "  print(value)\n",
        "\n",
        "print(\"\\nLặp qua các cặp khóa-giá trị (items):\")\n",
        "for key, value in my_dict.items():\n",
        "  print(key, \":\", value)\n",
        "\n",
        "# Kiểm tra xem một khóa có tồn tại không\n",
        "print(\"\\n'brand' có trong dictionary không?\", \"brand\" in my_dict)\n",
        "print(\"'model' có trong dictionary không?\", \"model\" in my_dict)\n",
        "\n",
        "# Lấy độ dài của dictionary\n",
        "print(\"Độ dài của dictionary:\", len(my_dict))"
      ],
      "metadata": {
        "colab": {
          "base_uri": "https://localhost:8080/"
        },
        "id": "fdEp6ZHvYTXN",
        "outputId": "42cb2056-c3db-436d-df8f-8e0413ca3b40"
      },
      "execution_count": null,
      "outputs": [
        {
          "output_type": "stream",
          "name": "stdout",
          "text": [
            "Dictionary ban đầu: {'brand': 'Ford', 'model': 'Mustang', 'year': 1964}\n",
            "Hãng xe (Brand): Ford\n",
            "Mẫu xe (Model): Mustang\n",
            "Dictionary sau khi thay đổi năm: {'brand': 'Ford', 'model': 'Mustang', 'year': 2020}\n",
            "Dictionary sau khi thêm màu: {'brand': 'Ford', 'model': 'Mustang', 'year': 2020, 'color': 'red'}\n",
            "Dictionary sau khi xóa mẫu xe: {'brand': 'Ford', 'year': 2020, 'color': 'red'}\n",
            "\n",
            "Lặp qua các khóa (keys):\n",
            "brand\n",
            "year\n",
            "color\n",
            "\n",
            "Lặp qua các giá trị (values):\n",
            "Ford\n",
            "2020\n",
            "red\n",
            "\n",
            "Lặp qua các cặp khóa-giá trị (items):\n",
            "brand : Ford\n",
            "year : 2020\n",
            "color : red\n",
            "\n",
            "'brand' có trong dictionary không? True\n",
            "'model' có trong dictionary không? False\n",
            "Độ dài của dictionary: 3\n"
          ]
        }
      ]
    },
    {
      "cell_type": "markdown",
      "source": [
        "# Python for Finance Applications"
      ],
      "metadata": {
        "id": "zw45sC2EaOYe"
      }
    },
    {
      "cell_type": "code",
      "source": [
        "# Python Lists\n",
        "expenses = [72.50, 80.75, 50.00, 90.25]\n",
        "total_expenses = sum(expenses)\n",
        "print(\"Total expenses:\", total_expenses)\n",
        "\n",
        "# Python Tuples\n",
        "accounts = ((\"Cash\", 1001), (\"Accounts Receivable\", 1002),\n",
        "(\"Inventory\", 1003))\n",
        "for account in accounts:\n",
        "\n",
        " print(\"Account name:\", account[0], \"Account number:\", account[1])\n",
        "\n",
        "# Python Sets\n",
        "account_numbers = {1001, 1002, 1003}\n",
        "new_account_number = 1004\n",
        "if new_account_number not in account_numbers:\n",
        "\n",
        " print(\"Account number\", new_account_number, \"is not in use.\")\n",
        "\n",
        "# Python Dictionaries\n",
        "accounts = {\"1001\": {\"name\": \"Cash\", \"balance\": 500.00, \"type\": \"Asset\"},\n",
        "\"1002\": {\"name\": \"Accounts Receivable\", \"balance\": 1000.00, \"type\": \"Asset\"},\n",
        "\"2001\": {\"name\": \"Accounts Payable\", \"balance\": 750.00, \"type\": \"Liability\"}}\n",
        "for account_number, account_info in accounts.items():\n",
        "  print(\"Account number:\", account_number)\n",
        "  print(\"Account name:\", account_info[\"name\"])\n",
        "  print(\"Account balance:\", account_info[\"balance\"])\n",
        "  print(\"Account type:\", account_info[\"type\"])"
      ],
      "metadata": {
        "colab": {
          "base_uri": "https://localhost:8080/"
        },
        "id": "i_DDTt66aowt",
        "outputId": "38dcad89-8403-4a3a-80f2-c3d33fbf27c3"
      },
      "execution_count": null,
      "outputs": [
        {
          "output_type": "stream",
          "name": "stdout",
          "text": [
            "Total expenses: 293.5\n",
            "Account name: Cash Account number: 1001\n",
            "Account name: Accounts Receivable Account number: 1002\n",
            "Account name: Inventory Account number: 1003\n",
            "Account number 1004 is not in use.\n",
            "Account number: 1001\n",
            "Account name: Cash\n",
            "Account balance: 500.0\n",
            "Account type: Asset\n",
            "Account number: 1002\n",
            "Account name: Accounts Receivable\n",
            "Account balance: 1000.0\n",
            "Account type: Asset\n",
            "Account number: 2001\n",
            "Account name: Accounts Payable\n",
            "Account balance: 750.0\n",
            "Account type: Liability\n"
          ]
        }
      ]
    },
    {
      "cell_type": "markdown",
      "source": [
        "# Python Control Logic and Loops"
      ],
      "metadata": {
        "id": "mxm1T9zUbIyD"
      }
    },
    {
      "cell_type": "markdown",
      "source": [
        "##Python if"
      ],
      "metadata": {
        "id": "GSigmsnfcPeB"
      }
    },
    {
      "cell_type": "code",
      "source": [
        "# Example of an if statement\n",
        "\n",
        "score = 80\n",
        "\n",
        "if score >= 60:\n",
        "  print(\"Bạn đã đỗ kỳ thi.\")"
      ],
      "metadata": {
        "colab": {
          "base_uri": "https://localhost:8080/"
        },
        "id": "ymzY9Bo7cQ3j",
        "outputId": "555a31b2-cb09-4ff2-eb72-5dfc4cb3b0e2"
      },
      "execution_count": null,
      "outputs": [
        {
          "output_type": "stream",
          "name": "stdout",
          "text": [
            "Bạn đã đỗ kỳ thi.\n"
          ]
        }
      ]
    },
    {
      "cell_type": "markdown",
      "source": [
        "## Python if else"
      ],
      "metadata": {
        "id": "1Hw12-JTcrjk"
      }
    },
    {
      "cell_type": "code",
      "source": [
        "# Example of an if else statement\n",
        "\n",
        "temperature = 15\n",
        "\n",
        "if temperature > 20:\n",
        "  print(\"Thời tiết ấm áp.\")\n",
        "else:\n",
        "  print(\"Thời tiết lạnh.\")"
      ],
      "metadata": {
        "colab": {
          "base_uri": "https://localhost:8080/"
        },
        "id": "W-k9XsNuc38M",
        "outputId": "23613b7d-bcf8-46ba-d9e1-081e500e168f"
      },
      "execution_count": null,
      "outputs": [
        {
          "output_type": "stream",
          "name": "stdout",
          "text": [
            "Thời tiết lạnh.\n"
          ]
        }
      ]
    },
    {
      "cell_type": "markdown",
      "source": [
        "## Python if elif else"
      ],
      "metadata": {
        "id": "d7uhLiMsdGzT"
      }
    },
    {
      "cell_type": "code",
      "source": [
        "# Example of an if elif else statement\n",
        "\n",
        "score = 75\n",
        "\n",
        "if score >= 90:\n",
        "  print(\"Bạn đạt điểm A.\")\n",
        "elif score >= 80:\n",
        "  print(\"Bạn đạt điểm B.\")\n",
        "elif score >= 70:\n",
        "  print(\"Bạn đạt điểm C.\")\n",
        "else:\n",
        "  print(\"Bạn cần cố gắng hơn.\")"
      ],
      "metadata": {
        "colab": {
          "base_uri": "https://localhost:8080/"
        },
        "id": "IizSGuGfdJB-",
        "outputId": "4e7172d1-ff13-473e-c10b-c2d41858066c"
      },
      "execution_count": null,
      "outputs": [
        {
          "output_type": "stream",
          "name": "stdout",
          "text": [
            "Bạn đạt điểm C.\n"
          ]
        }
      ]
    },
    {
      "cell_type": "markdown",
      "source": [
        "## Python for Loops"
      ],
      "metadata": {
        "id": "TIfAL5Tbda2e"
      }
    },
    {
      "cell_type": "code",
      "source": [
        "# Ví dụ về vòng lặp for\n",
        "\n",
        "fruits = [\"táo\", \"chuối\", \"anh đào\"]\n",
        "\n",
        "print(\"Lặp qua danh sách trái cây:\")\n",
        "for fruit in fruits:\n",
        "  print(fruit)\n",
        "\n",
        "print(\"\\nLặp qua một chuỗi:\")\n",
        "for letter in \"Python\":\n",
        "  print(letter)\n",
        "\n",
        "print(\"\\nLặp qua một dãy số sử dụng range():\")\n",
        "for i in range(5):\n",
        "  print(i)"
      ],
      "metadata": {
        "colab": {
          "base_uri": "https://localhost:8080/"
        },
        "id": "TfdfkZUHde2i",
        "outputId": "49db0473-2862-4253-9289-ac77923efbe5"
      },
      "execution_count": null,
      "outputs": [
        {
          "output_type": "stream",
          "name": "stdout",
          "text": [
            "Lặp qua danh sách trái cây:\n",
            "táo\n",
            "chuối\n",
            "anh đào\n",
            "\n",
            "Lặp qua một chuỗi:\n",
            "P\n",
            "y\n",
            "t\n",
            "h\n",
            "o\n",
            "n\n",
            "\n",
            "Lặp qua một dãy số sử dụng range():\n",
            "0\n",
            "1\n",
            "2\n",
            "3\n",
            "4\n"
          ]
        }
      ]
    },
    {
      "cell_type": "markdown",
      "source": [
        "##Python while Loops\n"
      ],
      "metadata": {
        "id": "pz0Z6rGzd626"
      }
    },
    {
      "cell_type": "code",
      "source": [
        "# Example of a while loop\n",
        "\n",
        "count = 0\n",
        "while count < 5:\n",
        "  print(\"Count is:\", count)\n",
        "  count += 1"
      ],
      "metadata": {
        "colab": {
          "base_uri": "https://localhost:8080/"
        },
        "id": "OJ_lRogHd8wL",
        "outputId": "61135bef-747c-4119-a179-c5a8f1aec6f8"
      },
      "execution_count": null,
      "outputs": [
        {
          "output_type": "stream",
          "name": "stdout",
          "text": [
            "Count is: 0\n",
            "Count is: 1\n",
            "Count is: 2\n",
            "Count is: 3\n",
            "Count is: 4\n"
          ]
        }
      ]
    },
    {
      "cell_type": "markdown",
      "source": [
        "#Python Functions\n"
      ],
      "metadata": {
        "id": "RZAVc8Y-eOZA"
      }
    },
    {
      "cell_type": "markdown",
      "source": [
        "## Python Function def"
      ],
      "metadata": {
        "id": "ZZNDLfyRegVR"
      }
    },
    {
      "cell_type": "code",
      "metadata": {
        "colab": {
          "base_uri": "https://localhost:8080/"
        },
        "id": "z3EYmdGmeP_2",
        "outputId": "65b62204-8ad8-478b-c116-35cb5dd201a5"
      },
      "source": [
        "# Ví dụ về định nghĩa và gọi hàm\n",
        "\n",
        "def chao_hoi(ten):\n",
        "  \"\"\"Hàm này dùng để chào hỏi người được truyền vào làm tham số.\"\"\"\n",
        "  print(\"Xin chào, \" + ten + \". Chúc buổi sáng tốt lành!\")\n",
        "\n",
        "# Gọi hàm\n",
        "chao_hoi('Alice')\n",
        "chao_hoi('Bob')\n",
        "\n",
        "# Ví dụ về hàm có giá trị trả về\n",
        "def cong_hai_so(so1, so2):\n",
        "  \"\"\"Hàm này nhận hai số và trả về tổng của chúng.\"\"\"\n",
        "  return so1 + so2\n",
        "\n",
        "# Gọi hàm và lưu kết quả\n",
        "ket_qua = cong_hai_so(5, 3)\n",
        "print(\"\\nTổng của 5 và 3:\", ket_qua)"
      ],
      "execution_count": null,
      "outputs": [
        {
          "output_type": "stream",
          "name": "stdout",
          "text": [
            "Xin chào, Alice. Chúc buổi sáng tốt lành!\n",
            "Xin chào, Bob. Chúc buổi sáng tốt lành!\n",
            "\n",
            "Tổng của 5 và 3: 8\n"
          ]
        }
      ]
    },
    {
      "cell_type": "markdown",
      "source": [
        "##Future Value\n"
      ],
      "metadata": {
        "id": "47uEnQh9fkAk"
      }
    },
    {
      "cell_type": "code",
      "source": [
        "# Example of calculating Future Value\n",
        "\n",
        "# Initial investment amount\n",
        "principal = 1000\n",
        "\n",
        "# Annual interest rate (as a decimal)\n",
        "annual_interest_rate = 0.05\n",
        "\n",
        "# Number of years\n",
        "years = 10\n",
        "\n",
        "# Calculate Future Value\n",
        "# FV = PV * (1 + r)^n\n",
        "future_value = principal * (1 + annual_interest_rate) ** years\n",
        "\n",
        "print(f\"Với số tiền gốc ban đầu {principal}, lãi suất hàng năm {annual_interest_rate*100}%, sau {years} năm, giá trị tương lai sẽ là: {round(future_value, 2)}\")"
      ],
      "metadata": {
        "colab": {
          "base_uri": "https://localhost:8080/"
        },
        "id": "FtsM53Q0fnEC",
        "outputId": "1d9e8e17-eaf1-4833-a8f7-935d56bfcbd2"
      },
      "execution_count": null,
      "outputs": [
        {
          "output_type": "stream",
          "name": "stdout",
          "text": [
            "Với số tiền gốc ban đầu 1000, lãi suất hàng năm 5.0%, sau 10 năm, giá trị tương lai sẽ là: 1628.89\n"
          ]
        }
      ]
    },
    {
      "cell_type": "code",
      "source": [],
      "metadata": {
        "id": "BzUn9azRfxDO"
      },
      "execution_count": null,
      "outputs": []
    },
    {
      "cell_type": "markdown",
      "source": [
        "# Python Classes/Objects\n",
        "\n"
      ],
      "metadata": {
        "id": "cmXBiOnLf_jI"
      }
    },
    {
      "cell_type": "markdown",
      "source": [
        "## Python Class"
      ],
      "metadata": {
        "id": "vh5cjjCvdLVq"
      }
    },
    {
      "cell_type": "code",
      "source": [
        "class MyClass:\n",
        " x = 5\n",
        "\n",
        "c1 = MyClass()\n",
        "print(c1.x)"
      ],
      "metadata": {
        "id": "TdeFOmRNgEXa",
        "colab": {
          "base_uri": "https://localhost:8080/"
        },
        "outputId": "41f669c0-bf7d-4a01-b0ca-b142f0169f0d"
      },
      "execution_count": null,
      "outputs": [
        {
          "output_type": "stream",
          "name": "stdout",
          "text": [
            "5\n"
          ]
        }
      ]
    },
    {
      "cell_type": "markdown",
      "source": [
        "##Python attribute"
      ],
      "metadata": {
        "id": "UqZqweK2dF_T"
      }
    },
    {
      "cell_type": "code",
      "source": [
        "class Person:\n",
        " # Phương thức khởi tạo (constructor) của lớp Person\n",
        " def __init__(self, name, age):\n",
        "  # Gán giá trị của tham số name và age cho thuộc tính name và age của đối tượng\n",
        "  self.name = name\n",
        "  self.age = age\n",
        "\n",
        "# Tạo một đối tượng (instance) mới từ lớp Person với tên \"Alan\" và tuổi 20\n",
        "p1 = Person(\"Alan\", 20)\n",
        "\n",
        "# In ra giá trị của thuộc tính name và age của đối tượng p1\n",
        "print(p1.name)\n",
        "print(p1.age)"
      ],
      "metadata": {
        "colab": {
          "base_uri": "https://localhost:8080/"
        },
        "id": "2Dsw50aaXzuJ",
        "outputId": "6d1b36ba-02ea-43bb-8452-bacfb65f5a20"
      },
      "execution_count": null,
      "outputs": [
        {
          "output_type": "stream",
          "name": "stdout",
          "text": [
            "Alan\n",
            "20\n"
          ]
        }
      ]
    },
    {
      "cell_type": "markdown",
      "source": [
        "##Python method"
      ],
      "metadata": {
        "id": "vv_ol9EYcuGZ"
      }
    },
    {
      "cell_type": "code",
      "source": [
        "class Person:\n",
        " def __init__(self, name, age):\n",
        "  self.name = name\n",
        "  self.age = age\n",
        "\n",
        " # Định nghĩa một phương thức (method) cho lớp Person\n",
        " def myfunc(self):\n",
        "  # In ra lời chào sử dụng thuộc tính name của đối tượng hiện tại (self)\n",
        "  print(f\"Hello my name is {self.name} and I am {self.age} years old.\")\n",
        "\n",
        "# Tạo một đối tượng (instance) mới từ lớp Person với tên \"Alan\" và tuổi 20\n",
        "p1 = Person(\"Alan\", 20)\n",
        "# Gọi phương thức myfunc trên đối tượng p1\n",
        "p1.myfunc()"
      ],
      "metadata": {
        "colab": {
          "base_uri": "https://localhost:8080/"
        },
        "id": "JMD3StJHXPsu",
        "outputId": "08e19edf-e14c-4058-ce90-e65af8efc049"
      },
      "execution_count": null,
      "outputs": [
        {
          "output_type": "stream",
          "name": "stdout",
          "text": [
            "Hello my name is Alan and I am 20 years old.\n"
          ]
        }
      ]
    },
    {
      "cell_type": "code",
      "source": [
        "class Vehicle:\n",
        "  name = \"\"\n",
        "  kind = \"car\"\n",
        "  color = \"\"\n",
        "  value = 100.00\n",
        "  def description(self):\n",
        "    # Sửa lỗi SyntaxError bằng cách đưa toàn bộ phần định dạng chuỗi vào một dòng duy nhất\n",
        "    desc_str = \"%s is a %s %s worth $%.2f.\" % (self.name, self.color, self.kind, self.value)\n",
        "    return desc_str\n",
        "\n",
        "# Ví dụ cách sử dụng lớp Vehicle\n",
        "car1 = Vehicle()\n",
        "car1.name = \"Fer\"\n",
        "car1.color = \"red\"\n",
        "car1.kind = \"Ferrari\"\n",
        "car1.value = 60000.00\n",
        "\n",
        "print(car1.description())\n",
        "\n",
        "car2 = Vehicle()\n",
        "car2.name = \"Jump\"\n",
        "car2.color = \"blue\"\n",
        "car2.kind = \"Jump\"\n",
        "car2.value = 10000.00\n",
        "\n",
        "print(car2.description())"
      ],
      "metadata": {
        "colab": {
          "base_uri": "https://localhost:8080/"
        },
        "id": "quqAjepRbjK4",
        "outputId": "aab2cc3b-2159-4375-92e0-720b83207575"
      },
      "execution_count": null,
      "outputs": [
        {
          "output_type": "stream",
          "name": "stdout",
          "text": [
            "Fer is a red Ferrari worth $60000.00.\n",
            "Jump is a blue Jump worth $10000.00.\n"
          ]
        }
      ]
    },
    {
      "cell_type": "markdown",
      "source": [
        "# Python Modules"
      ],
      "metadata": {
        "id": "GUdy9oxMieAH"
      }
    },
    {
      "cell_type": "markdown",
      "source": [
        "##Python Modules"
      ],
      "metadata": {
        "id": "8em_s7kXkYcd"
      }
    },
    {
      "cell_type": "code",
      "metadata": {
        "colab": {
          "base_uri": "https://localhost:8080/"
        },
        "id": "4a2339c3",
        "outputId": "f6edbd51-71b1-45bb-a3b6-426daa172289"
      },
      "source": [
        "# Tạo file mymodule.py\n",
        "%%writefile mymodule.py\n",
        "def greeting(name):\n",
        "  print(\"Hello, \" + name)"
      ],
      "execution_count": null,
      "outputs": [
        {
          "output_type": "stream",
          "name": "stdout",
          "text": [
            "Writing mymodule.py\n"
          ]
        }
      ]
    },
    {
      "cell_type": "code",
      "metadata": {
        "colab": {
          "base_uri": "https://localhost:8080/"
        },
        "id": "7bd37f41",
        "outputId": "2465dc82-eeda-47ab-f877-58d0286eeeb1"
      },
      "source": [
        "# Import và sử dụng hàm từ mymodule.py\n",
        "import mymodule\n",
        "mymodule.greeting(\"Alan\")"
      ],
      "execution_count": null,
      "outputs": [
        {
          "output_type": "stream",
          "name": "stdout",
          "text": [
            "Hello, Alan\n"
          ]
        }
      ]
    },
    {
      "cell_type": "markdown",
      "source": [
        "## Python File Input / Output"
      ],
      "metadata": {
        "id": "nKGnTfZQkbvG"
      }
    },
    {
      "cell_type": "code",
      "source": [
        "# Python File Input / Output\n",
        "filename = 'mymodule.py'\n",
        "with open(filename, 'w') as file:\n",
        " text = '''def greeting(name):\n",
        "print(\"Hello, \" + name)\n",
        "'''\n",
        " file.write(text)\n",
        "\n",
        "# Mở file một lần nữa để đọc\n",
        "with open(filename, 'r') as file:\n",
        " text = file.read()\n",
        " print(text)"
      ],
      "metadata": {
        "colab": {
          "base_uri": "https://localhost:8080/"
        },
        "id": "0NpKyhJ4ke7H",
        "outputId": "799b7d3f-9c58-4de7-d5c5-c47c56c8121c"
      },
      "execution_count": null,
      "outputs": [
        {
          "output_type": "stream",
          "name": "stdout",
          "text": [
            "def greeting(name):\n",
            "print(\"Hello, \" + name)\n",
            "\n"
          ]
        }
      ]
    },
    {
      "cell_type": "markdown",
      "source": [
        "## Python main() function"
      ],
      "metadata": {
        "id": "Tah1WYtvm6aL"
      }
    },
    {
      "cell_type": "code",
      "source": [
        "# Định nghĩa hàm chính\n",
        "def main():\n",
        " # In ra chuỗi \"Hello World!\"\n",
        " print(\"Hello World!\")\n",
        "\n",
        "# Kiểm tra xem script có đang được chạy trực tiếp hay không\n",
        "# Nếu đúng, thì gọi hàm main()\n",
        "if __name__ == \"__main__\":\n",
        " main()"
      ],
      "metadata": {
        "colab": {
          "base_uri": "https://localhost:8080/"
        },
        "id": "YWXaFMDYkwxp",
        "outputId": "b042491c-0c2a-4324-ce37-e811e80e1407"
      },
      "execution_count": null,
      "outputs": [
        {
          "output_type": "stream",
          "name": "stdout",
          "text": [
            "Hello World!\n"
          ]
        }
      ]
    },
    {
      "cell_type": "markdown",
      "source": [
        "#Files and Exception Handling"
      ],
      "metadata": {
        "id": "TEv-Lp2anYoW"
      }
    },
    {
      "cell_type": "markdown",
      "source": [
        "##Python Files (File Handling)"
      ],
      "metadata": {
        "id": "roUlPR1rntyy"
      }
    },
    {
      "cell_type": "code",
      "source": [
        "# Mở một file tên là \"myfile.txt\" ở chế độ \"w\" (write - ghi).\n",
        "f = open(\"myfile.txt\", \"w\")\n",
        "# Sử dụng phương thức write ghi chuỗi \"Hello World\" vào file.\n",
        "f.write(\"Hello World\")\n",
        "# đóng file\n",
        "f.close()\n",
        "# Mở lại file ở chế độ \"r\" (read - đọc)\n",
        "f = open(\"myfile.txt\", \"r\")\n",
        "\n",
        "text = f.read()\n",
        "# In nội dung vừa đọc được ra màn hình.\n",
        "print(text)\n",
        "f.close()"
      ],
      "metadata": {
        "colab": {
          "base_uri": "https://localhost:8080/"
        },
        "id": "jz7Jh52LnvId",
        "outputId": "f1237380-2fb0-4e81-b08d-5aedd17a14cf"
      },
      "execution_count": null,
      "outputs": [
        {
          "output_type": "stream",
          "name": "stdout",
          "text": [
            "Hello World\n"
          ]
        }
      ]
    },
    {
      "cell_type": "code",
      "source": [
        "with open('myfile.txt', 'w') as file:\n",
        " file.write('Hello World')\n",
        "\n",
        "with open('myfile.txt', 'r') as file:\n",
        "\n",
        " text = file.read()\n",
        "\n",
        "print(text)"
      ],
      "metadata": {
        "id": "DQQHgec_ptdz"
      },
      "execution_count": null,
      "outputs": []
    },
    {
      "cell_type": "markdown",
      "source": [
        "##Python Files"
      ],
      "metadata": {
        "id": "OAIPcdhOp9Jj"
      }
    },
    {
      "cell_type": "code",
      "source": [
        "# Python File Input / Output\n",
        "with open('myfile.txt', 'w') as file:\n",
        "# ghi nội dung vào file thành 2 hàng\n",
        " file.write('Hello World\\nPython File IO')\n",
        "\n",
        "with open('myfile.txt', 'r') as file:\n",
        " text = file.read()\n",
        "\n",
        "print(text)"
      ],
      "metadata": {
        "colab": {
          "base_uri": "https://localhost:8080/"
        },
        "id": "xLyQRidbp-pT",
        "outputId": "f6a3c611-82e1-4260-b98a-00cf76d31637"
      },
      "execution_count": null,
      "outputs": [
        {
          "output_type": "stream",
          "name": "stdout",
          "text": [
            "Hello World\n",
            "Python File IO\n"
          ]
        }
      ]
    },
    {
      "cell_type": "code",
      "source": [
        "# Python File Input / Output\n",
        "with open('myfile.txt', 'a+') as file:\n",
        "\n",
        " file.write('\\n' + 'New line')\n",
        "\n",
        "with open('myfile.txt', 'r') as file:\n",
        "\n",
        " text = file.read()\n",
        "\n",
        "print(text)"
      ],
      "metadata": {
        "colab": {
          "base_uri": "https://localhost:8080/"
        },
        "id": "MMVijtW9rCme",
        "outputId": "95b3bad4-03e5-4e9d-b947-6da254770af8"
      },
      "execution_count": null,
      "outputs": [
        {
          "output_type": "stream",
          "name": "stdout",
          "text": [
            "Hello World\n",
            "Python File IO\n",
            "New line\n"
          ]
        }
      ]
    },
    {
      "cell_type": "code",
      "source": [
        "# Liệt kê danh sách file\n",
        "!ls"
      ],
      "metadata": {
        "colab": {
          "base_uri": "https://localhost:8080/"
        },
        "id": "w2j7_RWPrTAx",
        "outputId": "be83d676-4821-4e66-c15d-bea630ef2229"
      },
      "execution_count": null,
      "outputs": [
        {
          "output_type": "stream",
          "name": "stdout",
          "text": [
            "myfile.txt  mymodule.py  __pycache__  sample_data\n"
          ]
        }
      ]
    },
    {
      "cell_type": "markdown",
      "source": [
        "##Python OS, IO, files, and Google Drive"
      ],
      "metadata": {
        "id": "r7TE1w9wsmZz"
      }
    },
    {
      "cell_type": "code",
      "source": [
        "# Nhập module 'os' để tương tác với hệ điều hành\n",
        "import os\n",
        "\n",
        "# Lấy đường dẫn thư mục làm việc hiện tại và lưu vào biến 'cwd'\n",
        "cwd = os.getcwd()\n",
        "\n",
        "# In đường dẫn thư mục làm việc hiện tại ra màn hình\n",
        "print(cwd)"
      ],
      "metadata": {
        "colab": {
          "base_uri": "https://localhost:8080/"
        },
        "id": "CWW8Ess9rT4h",
        "outputId": "7abf615d-57cb-47ec-8525-b24314dd1d82"
      },
      "execution_count": null,
      "outputs": [
        {
          "output_type": "stream",
          "name": "stdout",
          "text": [
            "/content\n"
          ]
        }
      ]
    },
    {
      "cell_type": "markdown",
      "source": [
        "###os.listdir()"
      ],
      "metadata": {
        "id": "JtXrxiv4syrD"
      }
    },
    {
      "cell_type": "code",
      "source": [
        "os.listdir(cwd)"
      ],
      "metadata": {
        "colab": {
          "base_uri": "https://localhost:8080/"
        },
        "id": "KKjTG0p8sCh_",
        "outputId": "6b3d57ea-91a8-4e06-d03f-ee5d930f20c1"
      },
      "execution_count": null,
      "outputs": [
        {
          "output_type": "execute_result",
          "data": {
            "text/plain": [
              "['.config', 'myfile.txt', 'mymodule.py', '__pycache__', 'sample_data']"
            ]
          },
          "metadata": {},
          "execution_count": 33
        }
      ]
    },
    {
      "cell_type": "markdown",
      "source": [
        "###os.path.join()"
      ],
      "metadata": {
        "id": "Sm9UJhnWtB9_"
      }
    },
    {
      "cell_type": "code",
      "source": [
        "# Sử dụng os.path.join() để kết hợp đường dẫn thư mục làm việc hiện tại (cwd)\n",
        "# và tên thư mục 'sample_data' để tạo ra đường dẫn đầy đủ đến thư mục 'sample_data'.\n",
        "path = os.path.join(cwd,'sample_data')\n",
        "# In đường dẫn đầy đủ vừa tạo ra màn hình.\n",
        "print(path)\n",
        "# Sử dụng os.listdir() để lấy danh sách tất cả các file và thư mục\n",
        "# có trong đường dẫn được chỉ định bởi biến 'path'.\n",
        "# Kết quả là một danh sách các tên file và thư mục.\n",
        "os.listdir(path)"
      ],
      "metadata": {
        "colab": {
          "base_uri": "https://localhost:8080/"
        },
        "id": "Tfn95GHEtEWV",
        "outputId": "58e4eb27-6e2c-462f-ad5c-8f52ffe1587c"
      },
      "execution_count": null,
      "outputs": [
        {
          "output_type": "stream",
          "name": "stdout",
          "text": [
            "/content/sample_data\n"
          ]
        },
        {
          "output_type": "execute_result",
          "data": {
            "text/plain": [
              "['anscombe.json',\n",
              " 'README.md',\n",
              " 'mnist_test.csv',\n",
              " 'mnist_train_small.csv',\n",
              " 'california_housing_train.csv',\n",
              " 'california_housing_test.csv']"
            ]
          },
          "metadata": {},
          "execution_count": 34
        }
      ]
    },
    {
      "cell_type": "markdown",
      "source": [
        "###from google.colab import files"
      ],
      "metadata": {
        "id": "iDTiwJCRtjNr"
      }
    },
    {
      "cell_type": "code",
      "source": [
        "# Nhập module 'files' từ gói 'google.colab'\n",
        "from google.colab import files\n",
        "\n",
        "# Mở một file tên là 'io_file_myday.txt' ở chế độ ghi ('w').\n",
        "# Sử dụng 'with' để đảm bảo file được đóng tự động.\n",
        "with open('io_file_myday.txt', 'w') as f:\n",
        "  # Ghi chuỗi văn bản vào file.\n",
        "  f.write('Google Colab File Write Text some content Myday')\n",
        "\n",
        "# Nhập module 'time'\n",
        "import time\n",
        "# Tạm dừng thực thi code trong 1 giây.\n",
        "# Điều này đôi khi cần thiết để đảm bảo file được ghi hoàn chỉnh trước khi tải xuống.\n",
        "time.sleep(1) # time sleep 1 second\n",
        "\n",
        "# Sử dụng hàm download() từ module files để tải file về máy tính cục bộ của người dùng.\n",
        "files.download('io_file_myday.txt')\n",
        "# In thông báo xác nhận đã yêu cầu tải xuống.\n",
        "print('Downloaded successfully')"
      ],
      "metadata": {
        "colab": {
          "base_uri": "https://localhost:8080/",
          "height": 34
        },
        "id": "vh4TGzKItky_",
        "outputId": "20108452-0b7b-4b2b-a842-b965a906c6fa"
      },
      "execution_count": null,
      "outputs": [
        {
          "output_type": "display_data",
          "data": {
            "text/plain": [
              "<IPython.core.display.Javascript object>"
            ],
            "application/javascript": [
              "\n",
              "    async function download(id, filename, size) {\n",
              "      if (!google.colab.kernel.accessAllowed) {\n",
              "        return;\n",
              "      }\n",
              "      const div = document.createElement('div');\n",
              "      const label = document.createElement('label');\n",
              "      label.textContent = `Downloading \"${filename}\": `;\n",
              "      div.appendChild(label);\n",
              "      const progress = document.createElement('progress');\n",
              "      progress.max = size;\n",
              "      div.appendChild(progress);\n",
              "      document.body.appendChild(div);\n",
              "\n",
              "      const buffers = [];\n",
              "      let downloaded = 0;\n",
              "\n",
              "      const channel = await google.colab.kernel.comms.open(id);\n",
              "      // Send a message to notify the kernel that we're ready.\n",
              "      channel.send({})\n",
              "\n",
              "      for await (const message of channel.messages) {\n",
              "        // Send a message to notify the kernel that we're ready.\n",
              "        channel.send({})\n",
              "        if (message.buffers) {\n",
              "          for (const buffer of message.buffers) {\n",
              "            buffers.push(buffer);\n",
              "            downloaded += buffer.byteLength;\n",
              "            progress.value = downloaded;\n",
              "          }\n",
              "        }\n",
              "      }\n",
              "      const blob = new Blob(buffers, {type: 'application/binary'});\n",
              "      const a = document.createElement('a');\n",
              "      a.href = window.URL.createObjectURL(blob);\n",
              "      a.download = filename;\n",
              "      div.appendChild(a);\n",
              "      a.click();\n",
              "      div.remove();\n",
              "    }\n",
              "  "
            ]
          },
          "metadata": {}
        },
        {
          "output_type": "display_data",
          "data": {
            "text/plain": [
              "<IPython.core.display.Javascript object>"
            ],
            "application/javascript": [
              "download(\"download_44295770-dee4-4983-acae-fb8fdb707a8c\", \"io_file_myday.txt\", 47)"
            ]
          },
          "metadata": {}
        },
        {
          "output_type": "stream",
          "name": "stdout",
          "text": [
            "downloaded\n"
          ]
        }
      ]
    },
    {
      "cell_type": "code",
      "source": [
        "# Nhập module 'files' từ gói 'google.colab' để làm việc với file\n",
        "from google.colab import files\n",
        "\n",
        "# Sử dụng hàm upload() để mở hộp thoại chọn file trên máy tính của người dùng.\n",
        "# Các file được chọn sẽ được tải lên môi trường Colab và lưu trong một dictionary.\n",
        "# Khóa của dictionary là tên file, giá trị là nội dung file dưới dạng bytes.\n",
        "uploaded = files.upload()\n",
        "\n",
        "# Lặp qua từng file đã được tải lên (duyệt qua các khóa trong dictionary 'uploaded')\n",
        "for fn in uploaded.keys():\n",
        "  # In thông tin về file đã tải lên\n",
        "  print('User uploaded file \"{name}\" with length {length} bytes'.format(\n",
        "      name=fn, # Tên file (khóa của dictionary)\n",
        "      length=len(uploaded[fn])) # Độ dài (kích thước) của nội dung file tính bằng bytes\n",
        "  )"
      ],
      "metadata": {
        "colab": {
          "base_uri": "https://localhost:8080/",
          "height": 95
        },
        "id": "7V695bRYuXGY",
        "outputId": "90073632-9aeb-428a-8fe7-67b9c277dcde"
      },
      "execution_count": null,
      "outputs": [
        {
          "output_type": "display_data",
          "data": {
            "text/plain": [
              "<IPython.core.display.HTML object>"
            ],
            "text/html": [
              "\n",
              "     <input type=\"file\" id=\"files-ba924325-c4c3-4496-8649-a18e059ba729\" name=\"files[]\" multiple disabled\n",
              "        style=\"border:none\" />\n",
              "     <output id=\"result-ba924325-c4c3-4496-8649-a18e059ba729\">\n",
              "      Upload widget is only available when the cell has been executed in the\n",
              "      current browser session. Please rerun this cell to enable.\n",
              "      </output>\n",
              "      <script>// Copyright 2017 Google LLC\n",
              "//\n",
              "// Licensed under the Apache License, Version 2.0 (the \"License\");\n",
              "// you may not use this file except in compliance with the License.\n",
              "// You may obtain a copy of the License at\n",
              "//\n",
              "//      http://www.apache.org/licenses/LICENSE-2.0\n",
              "//\n",
              "// Unless required by applicable law or agreed to in writing, software\n",
              "// distributed under the License is distributed on an \"AS IS\" BASIS,\n",
              "// WITHOUT WARRANTIES OR CONDITIONS OF ANY KIND, either express or implied.\n",
              "// See the License for the specific language governing permissions and\n",
              "// limitations under the License.\n",
              "\n",
              "/**\n",
              " * @fileoverview Helpers for google.colab Python module.\n",
              " */\n",
              "(function(scope) {\n",
              "function span(text, styleAttributes = {}) {\n",
              "  const element = document.createElement('span');\n",
              "  element.textContent = text;\n",
              "  for (const key of Object.keys(styleAttributes)) {\n",
              "    element.style[key] = styleAttributes[key];\n",
              "  }\n",
              "  return element;\n",
              "}\n",
              "\n",
              "// Max number of bytes which will be uploaded at a time.\n",
              "const MAX_PAYLOAD_SIZE = 100 * 1024;\n",
              "\n",
              "function _uploadFiles(inputId, outputId) {\n",
              "  const steps = uploadFilesStep(inputId, outputId);\n",
              "  const outputElement = document.getElementById(outputId);\n",
              "  // Cache steps on the outputElement to make it available for the next call\n",
              "  // to uploadFilesContinue from Python.\n",
              "  outputElement.steps = steps;\n",
              "\n",
              "  return _uploadFilesContinue(outputId);\n",
              "}\n",
              "\n",
              "// This is roughly an async generator (not supported in the browser yet),\n",
              "// where there are multiple asynchronous steps and the Python side is going\n",
              "// to poll for completion of each step.\n",
              "// This uses a Promise to block the python side on completion of each step,\n",
              "// then passes the result of the previous step as the input to the next step.\n",
              "function _uploadFilesContinue(outputId) {\n",
              "  const outputElement = document.getElementById(outputId);\n",
              "  const steps = outputElement.steps;\n",
              "\n",
              "  const next = steps.next(outputElement.lastPromiseValue);\n",
              "  return Promise.resolve(next.value.promise).then((value) => {\n",
              "    // Cache the last promise value to make it available to the next\n",
              "    // step of the generator.\n",
              "    outputElement.lastPromiseValue = value;\n",
              "    return next.value.response;\n",
              "  });\n",
              "}\n",
              "\n",
              "/**\n",
              " * Generator function which is called between each async step of the upload\n",
              " * process.\n",
              " * @param {string} inputId Element ID of the input file picker element.\n",
              " * @param {string} outputId Element ID of the output display.\n",
              " * @return {!Iterable<!Object>} Iterable of next steps.\n",
              " */\n",
              "function* uploadFilesStep(inputId, outputId) {\n",
              "  const inputElement = document.getElementById(inputId);\n",
              "  inputElement.disabled = false;\n",
              "\n",
              "  const outputElement = document.getElementById(outputId);\n",
              "  outputElement.innerHTML = '';\n",
              "\n",
              "  const pickedPromise = new Promise((resolve) => {\n",
              "    inputElement.addEventListener('change', (e) => {\n",
              "      resolve(e.target.files);\n",
              "    });\n",
              "  });\n",
              "\n",
              "  const cancel = document.createElement('button');\n",
              "  inputElement.parentElement.appendChild(cancel);\n",
              "  cancel.textContent = 'Cancel upload';\n",
              "  const cancelPromise = new Promise((resolve) => {\n",
              "    cancel.onclick = () => {\n",
              "      resolve(null);\n",
              "    };\n",
              "  });\n",
              "\n",
              "  // Wait for the user to pick the files.\n",
              "  const files = yield {\n",
              "    promise: Promise.race([pickedPromise, cancelPromise]),\n",
              "    response: {\n",
              "      action: 'starting',\n",
              "    }\n",
              "  };\n",
              "\n",
              "  cancel.remove();\n",
              "\n",
              "  // Disable the input element since further picks are not allowed.\n",
              "  inputElement.disabled = true;\n",
              "\n",
              "  if (!files) {\n",
              "    return {\n",
              "      response: {\n",
              "        action: 'complete',\n",
              "      }\n",
              "    };\n",
              "  }\n",
              "\n",
              "  for (const file of files) {\n",
              "    const li = document.createElement('li');\n",
              "    li.append(span(file.name, {fontWeight: 'bold'}));\n",
              "    li.append(span(\n",
              "        `(${file.type || 'n/a'}) - ${file.size} bytes, ` +\n",
              "        `last modified: ${\n",
              "            file.lastModifiedDate ? file.lastModifiedDate.toLocaleDateString() :\n",
              "                                    'n/a'} - `));\n",
              "    const percent = span('0% done');\n",
              "    li.appendChild(percent);\n",
              "\n",
              "    outputElement.appendChild(li);\n",
              "\n",
              "    const fileDataPromise = new Promise((resolve) => {\n",
              "      const reader = new FileReader();\n",
              "      reader.onload = (e) => {\n",
              "        resolve(e.target.result);\n",
              "      };\n",
              "      reader.readAsArrayBuffer(file);\n",
              "    });\n",
              "    // Wait for the data to be ready.\n",
              "    let fileData = yield {\n",
              "      promise: fileDataPromise,\n",
              "      response: {\n",
              "        action: 'continue',\n",
              "      }\n",
              "    };\n",
              "\n",
              "    // Use a chunked sending to avoid message size limits. See b/62115660.\n",
              "    let position = 0;\n",
              "    do {\n",
              "      const length = Math.min(fileData.byteLength - position, MAX_PAYLOAD_SIZE);\n",
              "      const chunk = new Uint8Array(fileData, position, length);\n",
              "      position += length;\n",
              "\n",
              "      const base64 = btoa(String.fromCharCode.apply(null, chunk));\n",
              "      yield {\n",
              "        response: {\n",
              "          action: 'append',\n",
              "          file: file.name,\n",
              "          data: base64,\n",
              "        },\n",
              "      };\n",
              "\n",
              "      let percentDone = fileData.byteLength === 0 ?\n",
              "          100 :\n",
              "          Math.round((position / fileData.byteLength) * 100);\n",
              "      percent.textContent = `${percentDone}% done`;\n",
              "\n",
              "    } while (position < fileData.byteLength);\n",
              "  }\n",
              "\n",
              "  // All done.\n",
              "  yield {\n",
              "    response: {\n",
              "      action: 'complete',\n",
              "    }\n",
              "  };\n",
              "}\n",
              "\n",
              "scope.google = scope.google || {};\n",
              "scope.google.colab = scope.google.colab || {};\n",
              "scope.google.colab._files = {\n",
              "  _uploadFiles,\n",
              "  _uploadFilesContinue,\n",
              "};\n",
              "})(self);\n",
              "</script> "
            ]
          },
          "metadata": {}
        },
        {
          "output_type": "stream",
          "name": "stdout",
          "text": [
            "Saving io_file_myday.txt to io_file_myday (1).txt\n",
            "User uploaded file \"io_file_myday (1).txt\" with length 47 bytes\n"
          ]
        }
      ]
    },
    {
      "cell_type": "markdown",
      "source": [
        "###os.remove()"
      ],
      "metadata": {
        "id": "GX80rNTTuk7X"
      }
    },
    {
      "cell_type": "code",
      "source": [
        "import os\n",
        "if os.path.exists(\"myfile.txt\"):# Kiểm tra xem file có tồn tại không\n",
        "  os.remove(\"myfile.txt\")# Xóa file \"myfile.txt\" nếu nó tồn tại\n",
        "  print(\"myfile.txt removed\")\n",
        "else:\n",
        "  print(\"The file does not exist\")"
      ],
      "metadata": {
        "colab": {
          "base_uri": "https://localhost:8080/"
        },
        "id": "kaqyaTL2umUN",
        "outputId": "2a8c06eb-2c91-439f-e5f3-0a3541fae9c3"
      },
      "execution_count": null,
      "outputs": [
        {
          "output_type": "stream",
          "name": "stdout",
          "text": [
            "myfile.txt removed\n"
          ]
        }
      ]
    },
    {
      "cell_type": "markdown",
      "source": [
        "##Python Try Except (Exception Handling)"
      ],
      "metadata": {
        "id": "ViqBit10vBaU"
      }
    },
    {
      "cell_type": "markdown",
      "source": [
        "###Python try except"
      ],
      "metadata": {
        "id": "P9o0VlQOyQx3"
      }
    },
    {
      "cell_type": "code",
      "source": [
        "# Thử chạy code này\n",
        "try:\n",
        " # In biến x (có thể gây lỗi nếu x chưa tồn tại)\n",
        " print(x)\n",
        "# Nếu có lỗi, chạy code này\n",
        "except:\n",
        " # In thông báo lỗi\n",
        " print(\"Exception Error\")"
      ],
      "metadata": {
        "colab": {
          "base_uri": "https://localhost:8080/"
        },
        "id": "Cx7auDdOvC7T",
        "outputId": "fd01e8a3-3906-4f74-8282-aadbaf5a4787"
      },
      "execution_count": null,
      "outputs": [
        {
          "output_type": "stream",
          "name": "stdout",
          "text": [
            "Exception Error\n"
          ]
        }
      ]
    },
    {
      "cell_type": "markdown",
      "source": [
        "###Python try except else"
      ],
      "metadata": {
        "id": "YgPpiTFTycHq"
      }
    },
    {
      "cell_type": "code",
      "source": [
        "# Thử chạy code này\n",
        "try:\n",
        "  print(\"Hello\")\n",
        "# Nếu có lỗi, chạy code này\n",
        "except:\n",
        "  print(\"Exception Error\")\n",
        "# Chạy code này nếu KHÔNG có lỗi\n",
        "else:\n",
        "  print(\"No exception\")"
      ],
      "metadata": {
        "colab": {
          "base_uri": "https://localhost:8080/"
        },
        "id": "r6JBiGh5vVTN",
        "outputId": "a04aabd5-48f0-4a78-d374-b387007cb548"
      },
      "execution_count": null,
      "outputs": [
        {
          "output_type": "stream",
          "name": "stdout",
          "text": [
            "Hello\n",
            "No exception\n"
          ]
        }
      ]
    },
    {
      "cell_type": "markdown",
      "source": [
        "###Python try except finally"
      ],
      "metadata": {
        "id": "14dJIGicyW68"
      }
    },
    {
      "cell_type": "code",
      "source": [
        "# Thử chạy code này\n",
        "try:\n",
        " # In \"Hello\"\n",
        " print(\"Hello\")\n",
        "# Nếu có lỗi, chạy code này\n",
        "except:\n",
        " # In thông báo lỗi\n",
        " print(\"Exception Error\")\n",
        "# Luôn chạy code này (dù có lỗi hay không)\n",
        "finally:\n",
        " # In thông báo cuối cùng\n",
        " print(\"Finally process\")"
      ],
      "metadata": {
        "colab": {
          "base_uri": "https://localhost:8080/"
        },
        "id": "AusoLeD3vZM6",
        "outputId": "589e9288-9fea-40a9-c3cd-e7ccece58a06"
      },
      "execution_count": null,
      "outputs": [
        {
          "output_type": "stream",
          "name": "stdout",
          "text": [
            "Hello\n",
            "Finally process\n"
          ]
        }
      ]
    },
    {
      "cell_type": "code",
      "source": [
        "# Thử chạy code này\n",
        "try:\n",
        "  # Nhập giá và số lượng, tính tổng\n",
        "  price = float(input(\"Enter the price of the stock (e.g. 10):\"))\n",
        "  shares = int(input(\"Enter the number of shares (e.g. 2):\"))\n",
        "  total = price * shares\n",
        "# Nếu có lỗi khi nhập hoặc tính toán, bắt lỗi\n",
        "except Exception as e:\n",
        "  # In thông báo lỗi\n",
        "  print(\"Exception error:\", str(e))\n",
        "# Nếu KHÔNG có lỗi, chạy code này\n",
        "else:\n",
        "  # In kết quả tổng giá trị\n",
        "  print(\"The total value of the shares is:\", total)\n",
        "# Luôn chạy code này (dù có lỗi hay không)\n",
        "finally:\n",
        "  print(\"Thank you.\")"
      ],
      "metadata": {
        "colab": {
          "base_uri": "https://localhost:8080/"
        },
        "id": "cVdF_eagzjwt",
        "outputId": "8c89ee56-3ef0-401e-c7d2-e775a3b792cb"
      },
      "execution_count": null,
      "outputs": [
        {
          "output_type": "stream",
          "name": "stdout",
          "text": [
            "Enter the price of the stock (e.g. 10):4\n",
            "Enter the number of shares (e.g. 2):6\n",
            "The total value of the shares is: 24.0\n",
            "Thank you.\n"
          ]
        }
      ]
    },
    {
      "cell_type": "code",
      "source": [
        "# Thử chạy code này\n",
        "try:\n",
        "  # Mở file ở chế độ ghi ('w'). Nội dung cũ sẽ bị xóa nếu file tồn tại.\n",
        "  file = open(\"myfile.txt\", \"w\")\n",
        "  # Ghi nội dung vào file.\n",
        "  file.write(\"Python write file\")\n",
        "  # In thông báo file đã được lưu.\n",
        "  print(\"file saved\")\n",
        "# Nếu có lỗi xảy ra (ví dụ: không có quyền ghi), bắt lỗi\n",
        "except:\n",
        "  # In thông báo lỗi file\n",
        "  print(\"Exception file Error\")"
      ],
      "metadata": {
        "colab": {
          "base_uri": "https://localhost:8080/"
        },
        "id": "n-VKABNJ0N_l",
        "outputId": "01e8aeb0-0bbe-4719-8499-f419d760f2d3"
      },
      "execution_count": null,
      "outputs": [
        {
          "output_type": "stream",
          "name": "stdout",
          "text": [
            "file saved\n"
          ]
        }
      ]
    },
    {
      "cell_type": "code",
      "source": [
        "# Thử chạy code này\n",
        "try:\n",
        "  # Mở file ở chế độ ghi ('w'). Nội dung cũ sẽ bị xóa nếu file tồn tại.\n",
        "  # Lưu ý: Mở ở chế độ 'w' sẽ gây lỗi nếu không có quyền ghi.\n",
        "  file = open(\"myfile.txt\", \"w\")\n",
        "  # Ghi nội dung vào file.\n",
        "  file.write(\"Python write file\")\n",
        "  # In thông báo file đã được lưu.\n",
        "  print(\"file saved\")\n",
        "# Nếu có lỗi xảy ra (ví dụ: không có quyền ghi), bắt lỗi.\n",
        "except:\n",
        "  # In thông báo lỗi file.\n",
        "  print(\"Exception file Error\")\n",
        "# Khối finally luôn chạy, dù có lỗi hay không.\n",
        "finally:\n",
        "  # Đóng file.\n",
        "  file.close()\n",
        "  print(\"Finally process\")"
      ],
      "metadata": {
        "colab": {
          "base_uri": "https://localhost:8080/"
        },
        "id": "FnU0w25B0xv3",
        "outputId": "2d8051e5-fea9-4703-cbf5-721b23a77f31"
      },
      "execution_count": null,
      "outputs": [
        {
          "output_type": "stream",
          "name": "stdout",
          "text": [
            "file saved\n",
            "Finally process\n"
          ]
        }
      ]
    },
    {
      "cell_type": "code",
      "source": [
        "# Thử chạy code này\n",
        "try:\n",
        "  # Mở file \"myfile.txt\" ở chế độ ghi ('w'). Đã sửa lỗi dấu nháy và thiếu ngoặc.\n",
        "  file = open(\"myfile.txt\", 'w')\n",
        "  # Ghi nội dung vào file.\n",
        "  file.write(\"Python write file\")\n",
        "  # In thông báo file đã được lưu.\n",
        "  print(\"file saved\")\n",
        "# Nếu có lỗi xảy ra, bắt lỗi. Đã sửa lỗi thụt lề.\n",
        "except:\n",
        "  # In thông báo lỗi file.\n",
        "  print(\"Exception file Error\")\n",
        "# Khối finally luôn chạy, dù có lỗi hay không. Đã sửa lỗi thụt lề.\n",
        "finally:\n",
        "  # Đóng file.\n",
        "  file.close()\n",
        "  print(\"Finally process\")"
      ],
      "metadata": {
        "colab": {
          "base_uri": "https://localhost:8080/"
        },
        "id": "K2UjQgIS1Ftg",
        "outputId": "cd8f978d-3ce3-4431-d2d7-20136b26388c"
      },
      "execution_count": null,
      "outputs": [
        {
          "output_type": "stream",
          "name": "stdout",
          "text": [
            "file saved\n",
            "Finally process\n"
          ]
        }
      ]
    }
  ]
}